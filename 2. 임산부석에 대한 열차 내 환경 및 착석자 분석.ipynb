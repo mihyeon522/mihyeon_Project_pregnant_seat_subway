{
 "cells": [
  {
   "cell_type": "markdown",
   "metadata": {},
   "source": [
    "# 임산부석에 임산부는 얼마나 앉을까?  "
   ]
  },
  {
   "cell_type": "markdown",
   "metadata": {},
   "source": [
    "### 부제 : 임산부석에 앉는 당신을 지켜보고 있다\n",
    "지하철 내 임산부 좌석을 배려석으로 볼 것인가? 임산부 전용 좌석으로 볼 것인가?<br>\n",
    "임산부석에 대한 사회적 합의가 완전하게 이루어지지 않은 지금, 다양한 방식으로 임산부석을 둘러싼 갈등이 표출되고 있다.<br>\n",
    "이에 데잇걸즈 3기 한단비, 이보민, 전재민, 윤한솔, 이미현, 박현미는 실제 임산부석 이용자와 열차 내의 다양한 요소를<br>\n",
    "관찰하여 얻은 데이터로 열차 내 환경 및 임산부석 좌석 이용자에 관한 분석을 실시하였다."
   ]
  },
  {
   "cell_type": "markdown",
   "metadata": {},
   "source": [
    "## 가설\n",
    "### 관찰로 얻은 데이터를 통해 알 수 있는 정보는 어떤 것이 있을까?\n",
    "1. 전체 임산부석 착석자 중 실제 임산부 비율\n",
    "2. 임산부석 착석자 성별 \n",
    "3. 임산부석 착석자의 행동\n",
    "4. 붐빔정도와 임산부석 착석과의 상관관계\n",
    "5. 호선별 임산부석이 비어있는 비율\n",
    "6. 노년 이용자의 임산부석 착석과 노약자석 빈자리 여부의 관계\n",
    "7. 무거운 짐의 여부와 임산부석 착석자의 상관 관계\n",
    "8. 일반석이 남아있을때 임산부석에 앉아있는 사람의 성별, 나이대 등의 정보"
   ]
  },
  {
   "cell_type": "markdown",
   "metadata": {},
   "source": [
    "# 데이터 수집 방법\n",
    " 지하철을 이용하는 팀원이 탑승하는 칸 내의 임산부석(각 칸에 2좌석)을 관찰, 탑승자 및 비어있는 구간과 열차내 붐빔 정도 등을 직접 시트에 입력\n",
    " \n",
    "### 수집 기간 : 2019-07-31 ~ 2019-08-16\n",
    "### 수집의 한계\n",
    "시간대가 모두 출퇴근 시간에만 조사됨<br>\n",
    "모든 호선을 조사하지 못했다<br>\n",
    "임산부 뱃지가 없으면 임산부인지 알기 힘듦<br>\n",
    "붐빌 경우 노약자석 확인이 어려웠음<br>\n",
    "연령대와 임신여부의 주관적 해석\n",
    "수집과정에서 수집 형태가 바뀌어 생긴 결측치<br>\n",
    "\\**모든 호선, 모든 시간,  모든 칸을 조사하지 못했으나, 임산부석 착석자 관찰 조사 데이터의 시작임을 감안해주세요* *\n"
   ]
  },
  {
   "cell_type": "markdown",
   "metadata": {},
   "source": [
    "---"
   ]
  },
  {
   "cell_type": "code",
   "execution_count": 246,
   "metadata": {},
   "outputs": [],
   "source": [
    "%matplotlib inline\n",
    "\n",
    "import pandas as pd\n",
    "import numpy as np\n",
    "import matplotlib.pyplot as plt\n",
    "import seaborn as sns\n",
    "\n",
    "import matplotlib.font_manager as fm\n",
    "\n",
    "for font in fm.fontManager.ttflist:\n",
    "    if font.name in ['AppleGothic', 'Malgun Gothic']:\n",
    "        plt.rcParams['font.family'] = font.name\n",
    "        break"
   ]
  },
  {
   "cell_type": "code",
   "execution_count": 247,
   "metadata": {},
   "outputs": [],
   "source": [
    "table = pd.read_csv('meerkat_processed.csv')"
   ]
  },
  {
   "cell_type": "code",
   "execution_count": 248,
   "metadata": {},
   "outputs": [
    {
     "data": {
      "image/png": "[encoded data removed]",
      "text/plain": [
       "<Figure size 576x72 with 1 Axes>"
      ]
     },
     "metadata": {
      "needs_background": "light"
     },
     "output_type": "display_data"
    }
   ],
   "source": [
    "pal = sns.color_palette(\"Set2\")\n",
    "sns.palplot(pal)\n",
    "sns.set_palette(pal)"
   ]
  },
  {
   "cell_type": "markdown",
   "metadata": {},
   "source": [
    "# Graphic model"
   ]
  },
  {
   "cell_type": "markdown",
   "metadata": {},
   "source": [
    "![img](https://i.imgur.com/ru0w38v.png)"
   ]
  },
  {
   "cell_type": "markdown",
   "metadata": {},
   "source": [
    "# Data description\n",
    "\n",
    "### 기록\n",
    "1. date : 기록 날짜\n",
    "2. time : 기록 시간\n",
    "3. line : 탑승 호선\n",
    "4. start : 기록자의 탑승역\n",
    "5. stop : 기록자의 하차역\n",
    "\n",
    "### 붐빔 정도 \n",
    "6. crowdedness : E, N, F로 분류\n",
    "7. E : 널널 (비어있는 일반석이 있는 경우)\n",
    "8. N : 보통 (비어있는 일반석이 없고 서 있는 승객이 20명 미만)\n",
    "9. F : 가득참 (서 있는 승객 20명 이상)\n",
    "10. is_old_seat_empty : 노약자석 빈자리 여부\n",
    "    * 0 : 빈자리 없음\n",
    "    * 1 : 빈자리 있음\n",
    "\n",
    "### 임산부석 착석 여부 및 성별\n",
    "11. is_p_seat_empty : 임산부석 빈자리 여부\n",
    "    * 0 : 빈자리 없음\n",
    "    * 1 : 빈자리 있음\n",
    "12. p_seat_empty_count : 임산부석이 비어있는 상태로 지나간 역의 개수\n",
    "13. female : 착석자 성별이 여성\n",
    "14. male : 착석자 성별이 남성\n",
    "\n",
    "### 착석자 연령\n",
    "15. age : 착석자 연령 (어린이, 청소년, 청년, 중년, 노년)\n",
    "16. child : 어린이 ~13살\n",
    "17. teenage : 청소년 14~19살\n",
    "18. youth : 청년 20, 30대\n",
    "19. middle_age : 중년 40대~65세 이전\n",
    "20. old_age : 노년 65세 이후\n",
    "\n",
    "### 착석자 임신 여부\n",
    "21. badge :  임산부 엠블럼 소지 여부\n",
    "22. pregnant : 임신 여부\n",
    "\n",
    "### 짐 여부\n",
    "23. heavy : 무거운 짐을 가지고 있는지 여부\n",
    "    * 노트북이 들어가는 크기의 가방부터 무거운 짐으로 간주\n",
    "\n",
    "### 착석자 행동\n",
    "24. behavior1 : 행동 종류 1\n",
    "25. behavior2 : 행동 종류 2\n",
    "26. behavior3 : 행동 종류 3 **한 사람이 여러 행동을 했을 경우*\n",
    "27. cellphone : 핸드폰을 이용함\n",
    "28. thinking : 멍 때리기\n",
    "29. sleep : 잠\n",
    "30. earphone : 이어폰 사용\n",
    "31. talking : 이야기 함\n",
    "32. calling : 전화통화\n",
    "33. reading : 무엇인가를 읽음\n",
    "34. makeup : 화장하기\n",
    "35. eating : 먹기\n",
    "36. writing : 무엇인가를 작성하기"
   ]
  },
  {
   "cell_type": "code",
   "execution_count": 249,
   "metadata": {},
   "outputs": [
    {
     "data": {
      "text/html": [
       "<div>\n",
       "<style scoped>\n",
       "    .dataframe tbody tr th:only-of-type {\n",
       "        vertical-align: middle;\n",
       "    }\n",
       "\n",
       "    .dataframe tbody tr th {\n",
       "        vertical-align: top;\n",
       "    }\n",
       "\n",
       "    .dataframe thead th {\n",
       "        text-align: right;\n",
       "    }\n",
       "</style>\n",
       "<table border=\"1\" class=\"dataframe\">\n",
       "  <thead>\n",
       "    <tr style=\"text-align: right;\">\n",
       "      <th></th>\n",
       "      <th>Unnamed: 0</th>\n",
       "      <th>date</th>\n",
       "      <th>time</th>\n",
       "      <th>line</th>\n",
       "      <th>start</th>\n",
       "      <th>stop</th>\n",
       "      <th>crowdedness</th>\n",
       "      <th>E</th>\n",
       "      <th>N</th>\n",
       "      <th>F</th>\n",
       "      <th>...</th>\n",
       "      <th>cellphone</th>\n",
       "      <th>thinking</th>\n",
       "      <th>sleep</th>\n",
       "      <th>earphone</th>\n",
       "      <th>talking</th>\n",
       "      <th>calling</th>\n",
       "      <th>reading</th>\n",
       "      <th>makeup</th>\n",
       "      <th>eating</th>\n",
       "      <th>writing</th>\n",
       "    </tr>\n",
       "  </thead>\n",
       "  <tbody>\n",
       "    <tr>\n",
       "      <th>0</th>\n",
       "      <td>0</td>\n",
       "      <td>2019. 7. 31.</td>\n",
       "      <td>19:10:00</td>\n",
       "      <td>5</td>\n",
       "      <td>공덕</td>\n",
       "      <td>여의도</td>\n",
       "      <td>N</td>\n",
       "      <td>0</td>\n",
       "      <td>1</td>\n",
       "      <td>0</td>\n",
       "      <td>...</td>\n",
       "      <td>1</td>\n",
       "      <td>0</td>\n",
       "      <td>0</td>\n",
       "      <td>1</td>\n",
       "      <td>0</td>\n",
       "      <td>0</td>\n",
       "      <td>0</td>\n",
       "      <td>0</td>\n",
       "      <td>0</td>\n",
       "      <td>0</td>\n",
       "    </tr>\n",
       "  </tbody>\n",
       "</table>\n",
       "<p>1 rows × 37 columns</p>\n",
       "</div>"
      ],
      "text/plain": [
       "   Unnamed: 0          date      time  line start stop crowdedness  E  N  F  \\\n",
       "0           0  2019. 7. 31.  19:10:00     5    공덕  여의도           N  0  1  0   \n",
       "\n",
       "   ...  cellphone  thinking  sleep  earphone  talking calling  reading  \\\n",
       "0  ...          1         0      0         1        0       0        0   \n",
       "\n",
       "   makeup  eating  writing  \n",
       "0       0       0        0  \n",
       "\n",
       "[1 rows x 37 columns]"
      ]
     },
     "execution_count": 249,
     "metadata": {},
     "output_type": "execute_result"
    }
   ],
   "source": [
    "table.head(1)"
   ]
  },
  {
   "cell_type": "code",
   "execution_count": 250,
   "metadata": {},
   "outputs": [
    {
     "data": {
      "text/plain": [
       "Unnamed: 0              int64\n",
       "date                   object\n",
       "time                   object\n",
       "line                    int64\n",
       "start                  object\n",
       "stop                   object\n",
       "crowdedness            object\n",
       "E                       int64\n",
       "N                       int64\n",
       "F                       int64\n",
       "is_old_seat_empty       int64\n",
       "is_p_seat_empty         int64\n",
       "p_seat_empty_count    float64\n",
       "female                  int64\n",
       "male                    int64\n",
       "age                    object\n",
       "child                 float64\n",
       "teenage               float64\n",
       "youth                 float64\n",
       "middle_age            float64\n",
       "old_age               float64\n",
       "badge                 float64\n",
       "pregnant              float64\n",
       "heavy                 float64\n",
       "behavior1              object\n",
       "behavior2              object\n",
       "behavior3              object\n",
       "cellphone               int64\n",
       "thinking                int64\n",
       "sleep                   int64\n",
       "earphone                int64\n",
       "talking                 int64\n",
       "calling                 int64\n",
       "reading                 int64\n",
       "makeup                  int64\n",
       "eating                  int64\n",
       "writing                 int64\n",
       "dtype: object"
      ]
     },
     "execution_count": 250,
     "metadata": {},
     "output_type": "execute_result"
    }
   ],
   "source": [
    "table.dtypes"
   ]
  },
  {
   "cell_type": "code",
   "execution_count": 251,
   "metadata": {},
   "outputs": [],
   "source": [
    "table[\"date\"] = pd.to_datetime(table['date']) #날짜 데이터 타입 변경"
   ]
  },
  {
   "cell_type": "code",
   "execution_count": 252,
   "metadata": {},
   "outputs": [
    {
     "name": "stdout",
     "output_type": "stream",
     "text": [
      "데이터 기록 기간\n",
      "시작: 2019-07-31 00:00:00\n",
      "끝: 2019-08-16 00:00:00\n"
     ]
    }
   ],
   "source": [
    "# 데이터가 언제부터 언제까지 있는지? min(), max() 함수\n",
    "print('데이터 기록 기간')\n",
    "print('시작:',(table['date']).min())\n",
    "print('끝:',(table['date']).max())"
   ]
  },
  {
   "cell_type": "code",
   "execution_count": 253,
   "metadata": {},
   "outputs": [
    {
     "name": "stdout",
     "output_type": "stream",
     "text": [
      "데이터의 총 갯수 :  833\n"
     ]
    }
   ],
   "source": [
    "# 데이터의 총 갯수\n",
    "print('데이터의 총 갯수 : ',(len(table['date'])))"
   ]
  },
  {
   "cell_type": "code",
   "execution_count": 254,
   "metadata": {},
   "outputs": [
    {
     "data": {
      "image/png": "[encoded data removed]",
      "text/plain": [
       "<Figure size 432x288 with 1 Axes>"
      ]
     },
     "metadata": {
      "needs_background": "light"
     },
     "output_type": "display_data"
    }
   ],
   "source": [
    "sns.countplot(x=\"line\", data=table)\n",
    "plt.title(\"호선별 데이터 총량\")\n",
    "plt.show()"
   ]
  },
  {
   "cell_type": "code",
   "execution_count": 255,
   "metadata": {},
   "outputs": [
    {
     "data": {
      "image/png": "[encoded data removed]",
      "text/plain": [
       "<Figure size 432x288 with 1 Axes>"
      ]
     },
     "metadata": {
      "needs_background": "light"
     },
     "output_type": "display_data"
    }
   ],
   "source": [
    "sns.countplot(x=\"line\", hue=\"is_p_seat_empty\", data=table)\n",
    "plt.title(\"호선별 임산부석 빈자리 여부\")\n",
    "plt.show()"
   ]
  },
  {
   "cell_type": "markdown",
   "metadata": {},
   "source": [
    "----\n",
    "# 1. 임산부석 착석자 분석"
   ]
  },
  {
   "cell_type": "code",
   "execution_count": 256,
   "metadata": {
    "scrolled": true
   },
   "outputs": [
    {
     "name": "stdout",
     "output_type": "stream",
     "text": [
      "관찰한 좌석 수 :  833\n",
      "착석자가 있는 좌석 수: 576 개, 전체 중 69 %\n",
      "비어있는 좌석 수: 257 개, 전체 중 31 %\n"
     ]
    }
   ],
   "source": [
    "print('관찰한 좌석 수 : ',(len(table['date'])))\n",
    "print('착석자가 있는 좌석 수:',table[table['is_p_seat_empty']==0]['is_p_seat_empty'].count(),'개, 전체 중',round(len(table[table['is_p_seat_empty']==0]) / len(table) * 100),'%') #비어있는 좌석 수\n",
    "print('비어있는 좌석 수:',table[table['is_p_seat_empty']==1]['is_p_seat_empty'].count(),'개, 전체 중',round(len(table[table['is_p_seat_empty']==1]) / len(table) * 100),'%') "
   ]
  },
  {
   "cell_type": "code",
   "execution_count": 257,
   "metadata": {},
   "outputs": [
    {
     "data": {
      "text/plain": [
       "Text(0, 0.5, '')"
      ]
     },
     "execution_count": 257,
     "metadata": {},
     "output_type": "execute_result"
    },
    {
     "data": {
      "image/png": "[encoded data removed]",
      "text/plain": [
       "<Figure size 720x720 with 1 Axes>"
      ]
     },
     "metadata": {},
     "output_type": "display_data"
    }
   ],
   "source": [
    "labels=['O (576석)', 'X (257석)']\n",
    "table.groupby('is_p_seat_empty')['is_p_seat_empty'].count().plot.pie(labels = labels\n",
    "                    ,colors= ['#FF97AF', '#99CC64']\n",
    "                    ,startangle = 90\n",
    "                    ,shadow = True\n",
    "                    ,autopct = '%1.1f%%'\n",
    "                    ,explode = (0.1,0) \n",
    "                    ,figsize=(10, 10)\n",
    "                    ,fontsize = 30)\n",
    "plt.title('임산부석 착석자 여부', fontsize=35)\n",
    "pylab.ylabel('')"
   ]
  },
  {
   "cell_type": "markdown",
   "metadata": {},
   "source": [
    "## 1-1. 임산부석 착석한 임산부 분석"
   ]
  },
  {
   "cell_type": "code",
   "execution_count": 258,
   "metadata": {},
   "outputs": [
    {
     "name": "stdout",
     "output_type": "stream",
     "text": [
      "착석자가 있는 좌석 수 576개 중 26 개 좌석이 임산부, 총 5 %\n"
     ]
    }
   ],
   "source": [
    "# full: 임산부석에 착석자가 있는 행만 뽑은 테이블\n",
    "full = table[table['is_p_seat_empty']==0]\n",
    "\n",
    "print('착석자가 있는 좌석 수 576개 중', len(full[full['pregnant']==1]),'개 좌석이 임산부, 총',round(len(full[full['pregnant']==1]) / len(full) * 100),'%')"
   ]
  },
  {
   "cell_type": "code",
   "execution_count": 259,
   "metadata": {},
   "outputs": [
    {
     "data": {
      "text/plain": [
       "Text(0, 0.5, '')"
      ]
     },
     "execution_count": 259,
     "metadata": {},
     "output_type": "execute_result"
    },
    {
     "data": {
      "image/png": "[encoded data removed]",
      "text/plain": [
       "<Figure size 720x720 with 1 Axes>"
      ]
     },
     "metadata": {},
     "output_type": "display_data"
    }
   ],
   "source": [
    "full = table[table['is_p_seat_empty']==0]\n",
    "labels=['X (550명)', 'O (26명)']\n",
    "full.groupby('pregnant')['pregnant'].count().plot.pie(labels = labels\n",
    "                    ,colors= ['#FF97AF', '#99CC64']\n",
    "                    ,startangle = 60\n",
    "                    ,shadow = True\n",
    "                    ,autopct = '%1.1f%%'\n",
    "                    ,explode = (0.2,0) \n",
    "                    ,figsize=(10, 10)\n",
    "                    ,fontsize = 30)\n",
    "plt.title('임산부석 착석자 중 임산부 여부', fontsize=35)\n",
    "pylab.ylabel('')"
   ]
  },
  {
   "cell_type": "markdown",
   "metadata": {},
   "source": [
    "### 1-1-1. 임산부석을 이용한 임산부의 엠블럼 소지 여부"
   ]
  },
  {
   "cell_type": "code",
   "execution_count": 260,
   "metadata": {},
   "outputs": [
    {
     "data": {
      "text/plain": [
       "Text(0, 0.5, '')"
      ]
     },
     "execution_count": 260,
     "metadata": {},
     "output_type": "execute_result"
    },
    {
     "data": {
      "image/png": "[encoded data removed]",
      "text/plain": [
       "<Figure size 720x720 with 1 Axes>"
      ]
     },
     "metadata": {},
     "output_type": "display_data"
    }
   ],
   "source": [
    "preg = table[table['pregnant']==1]\n",
    "labels=['X (10명)', 'O (16명)']\n",
    "preg.groupby('badge')['badge'].count().plot.pie(labels = labels\n",
    "                    ,colors= ['#99CC64', '#FF97AF']\n",
    "                    ,startangle = 90\n",
    "                    ,shadow = True\n",
    "                    ,autopct = '%1.1f%%'\n",
    "                    ,explode = (0.05,0) \n",
    "                    ,figsize=(10, 10)\n",
    "                    ,fontsize = 30)\n",
    "plt.title('임산부 중 엠블럼 소지자', fontsize=35)\n",
    "pylab.ylabel('')"
   ]
  },
  {
   "cell_type": "code",
   "execution_count": 261,
   "metadata": {},
   "outputs": [],
   "source": [
    "num_prg= table[table[\"pregnant\"] == 1][\"pregnant\"].count()"
   ]
  },
  {
   "cell_type": "code",
   "execution_count": 262,
   "metadata": {},
   "outputs": [
    {
     "data": {
      "text/plain": [
       "26"
      ]
     },
     "execution_count": 262,
     "metadata": {},
     "output_type": "execute_result"
    }
   ],
   "source": [
    "table[table[\"pregnant\"] == 1][\"pregnant\"].count()"
   ]
  },
  {
   "cell_type": "code",
   "execution_count": 263,
   "metadata": {},
   "outputs": [],
   "source": [
    "num_prg_bdg = table[table[\"badge\"] == 1][\"badge\"].count()"
   ]
  },
  {
   "cell_type": "code",
   "execution_count": 264,
   "metadata": {},
   "outputs": [
    {
     "data": {
      "text/plain": [
       "16"
      ]
     },
     "execution_count": 264,
     "metadata": {},
     "output_type": "execute_result"
    }
   ],
   "source": [
    "table[table[\"badge\"] == 1][\"badge\"].count()"
   ]
  },
  {
   "cell_type": "code",
   "execution_count": 265,
   "metadata": {},
   "outputs": [
    {
     "data": {
      "text/plain": [
       "0.6153846153846154"
      ]
     },
     "execution_count": 265,
     "metadata": {},
     "output_type": "execute_result"
    }
   ],
   "source": [
    "num_prg_bdg/num_prg"
   ]
  },
  {
   "cell_type": "markdown",
   "metadata": {},
   "source": [
    "----\n",
    "## 1-2. 임산부석 착석한 비임산부 분석"
   ]
  },
  {
   "cell_type": "code",
   "execution_count": 266,
   "metadata": {},
   "outputs": [
    {
     "name": "stdout",
     "output_type": "stream",
     "text": [
      "착석자가 있는 좌석 수 576개 중 550 개 좌석이 임산부, 총 95 %\n"
     ]
    }
   ],
   "source": [
    "print('착석자가 있는 좌석 수 576개 중', len(full[full['pregnant']==0]),'개 좌석이 임산부, 총',round(len(full[full['pregnant']==0]) / len(full) * 100),'%')"
   ]
  },
  {
   "cell_type": "code",
   "execution_count": 267,
   "metadata": {},
   "outputs": [],
   "source": [
    "# not_p: 임산부석 착석자가 비임산부인 행만 뽑은 테이블\n",
    "not_p = full[full['pregnant']==0]"
   ]
  },
  {
   "cell_type": "code",
   "execution_count": 268,
   "metadata": {},
   "outputs": [
    {
     "data": {
      "text/plain": [
       "550"
      ]
     },
     "execution_count": 268,
     "metadata": {},
     "output_type": "execute_result"
    }
   ],
   "source": [
    "# 임산부석 착석자가 비임산부일 경우의 수와 비율\n",
    "len(not_p)"
   ]
  },
  {
   "cell_type": "code",
   "execution_count": 269,
   "metadata": {},
   "outputs": [
    {
     "data": {
      "text/plain": [
       "95.48611111111111"
      ]
     },
     "execution_count": 269,
     "metadata": {},
     "output_type": "execute_result"
    }
   ],
   "source": [
    "len(not_p)/len(full) * 100"
   ]
  },
  {
   "cell_type": "markdown",
   "metadata": {},
   "source": [
    "### 1-2-1. 비임산부 착석자 성별과 비율"
   ]
  },
  {
   "cell_type": "code",
   "execution_count": 270,
   "metadata": {},
   "outputs": [
    {
     "data": {
      "text/plain": [
       "Text(0, 0.5, '')"
      ]
     },
     "execution_count": 270,
     "metadata": {},
     "output_type": "execute_result"
    },
    {
     "data": {
      "image/png": "[encoded data removed]",
      "text/plain": [
       "<Figure size 720x720 with 1 Axes>"
      ]
     },
     "metadata": {},
     "output_type": "display_data"
    }
   ],
   "source": [
    "table['sex'] = table['female'].apply(lambda x: \"여\" if x == 1 else \"남\" if x == 0 else '')\n",
    "table['sex'] = table['sex'].replace(\"\",np.nan, regex=True)\n",
    "full = table[table['is_p_seat_empty']==0]\n",
    "not_p = full[full['pregnant']==0]\n",
    "labels=['남성 (128명)', '여성 (422명)']\n",
    "not_p.groupby('sex')['sex'].count().plot.pie(labels = labels\n",
    "                    ,colors= ['#99CC64', '#FF97AF']\n",
    "                    ,startangle = 90\n",
    "                    ,shadow = True\n",
    "                    ,autopct = '%1.1f%%'\n",
    "                    ,explode = (0.05,0) \n",
    "                    ,figsize=(10, 10)\n",
    "                    ,fontsize = 30)\n",
    "plt.title('비임산부 착석자 성별', fontsize=35)\n",
    "pylab.ylabel('')"
   ]
  },
  {
   "cell_type": "code",
   "execution_count": 271,
   "metadata": {},
   "outputs": [
    {
     "name": "stdout",
     "output_type": "stream",
     "text": [
      "여성 착석자 수: 422 명\n",
      "여성 착석 비율: 77 %\n",
      "남성 착석자 수: 128 명\n",
      "남성 착석 비율: 23 %\n"
     ]
    }
   ],
   "source": [
    "# 성별\n",
    "print('여성 착석자 수:', (len(not_p[not_p['female']==1])),'명')\n",
    "print('여성 착석 비율:', (round(len(not_p[not_p['female']==1])/len(not_p)*100)),'%')\n",
    "print('남성 착석자 수:', (len(not_p[not_p['male']==1])),'명')\n",
    "print('남성 착석 비율:', (round(len(not_p[not_p['male']==1])/len(not_p)*100)),'%')"
   ]
  },
  {
   "cell_type": "markdown",
   "metadata": {},
   "source": [
    "### 1-2-2. 비임산부 착석자 나이"
   ]
  },
  {
   "cell_type": "code",
   "execution_count": 272,
   "metadata": {},
   "outputs": [
    {
     "data": {
      "text/html": [
       "<div>\n",
       "<style scoped>\n",
       "    .dataframe tbody tr th:only-of-type {\n",
       "        vertical-align: middle;\n",
       "    }\n",
       "\n",
       "    .dataframe tbody tr th {\n",
       "        vertical-align: top;\n",
       "    }\n",
       "\n",
       "    .dataframe thead tr th {\n",
       "        text-align: left;\n",
       "    }\n",
       "</style>\n",
       "<table border=\"1\" class=\"dataframe\">\n",
       "  <thead>\n",
       "    <tr>\n",
       "      <th></th>\n",
       "      <th>연령대</th>\n",
       "      <th>개수</th>\n",
       "      <th>비율(%)</th>\n",
       "    </tr>\n",
       "  </thead>\n",
       "  <tbody>\n",
       "    <tr>\n",
       "      <th>0</th>\n",
       "      <td>노년</td>\n",
       "      <td>100</td>\n",
       "      <td>18.18</td>\n",
       "    </tr>\n",
       "    <tr>\n",
       "      <th>1</th>\n",
       "      <td>어린이</td>\n",
       "      <td>11</td>\n",
       "      <td>2.00</td>\n",
       "    </tr>\n",
       "    <tr>\n",
       "      <th>2</th>\n",
       "      <td>중년</td>\n",
       "      <td>231</td>\n",
       "      <td>42.00</td>\n",
       "    </tr>\n",
       "    <tr>\n",
       "      <th>3</th>\n",
       "      <td>청년</td>\n",
       "      <td>202</td>\n",
       "      <td>36.73</td>\n",
       "    </tr>\n",
       "    <tr>\n",
       "      <th>4</th>\n",
       "      <td>청소년</td>\n",
       "      <td>6</td>\n",
       "      <td>1.09</td>\n",
       "    </tr>\n",
       "  </tbody>\n",
       "</table>\n",
       "</div>"
      ],
      "text/plain": [
       "   연령대   개수  비율(%)\n",
       "0   노년  100  18.18\n",
       "1  어린이   11   2.00\n",
       "2   중년  231  42.00\n",
       "3   청년  202  36.73\n",
       "4  청소년    6   1.09"
      ]
     },
     "execution_count": 272,
     "metadata": {},
     "output_type": "execute_result"
    }
   ],
   "source": [
    "# 연령대 (인원 수, 단위 : 명)\n",
    "not_p_age_num = not_p.groupby('age')['date'].count()\n",
    "not_p_age_per =not_p_age_num.apply(lambda x: x / len(not_p) * 100).round(2)\n",
    "not_p_age_df = pd.DataFrame([not_p_age_num, not_p_age_per]).T\n",
    "not_p_age_df.columns = [['개수', '비율(%)']]\n",
    "not_p_age_df['개수'] = not_p_age_df['개수'].astype(int)\n",
    "not_p_age_df.index.name = '연령대'\n",
    "not_p_age_df.reset_index()"
   ]
  },
  {
   "cell_type": "code",
   "execution_count": 273,
   "metadata": {},
   "outputs": [
    {
     "data": {
      "text/plain": [
       "Text(0, 0.5, '')"
      ]
     },
     "execution_count": 273,
     "metadata": {},
     "output_type": "execute_result"
    },
    {
     "data": {
      "image/png": "[encoded data removed]",
      "text/plain": [
       "<Figure size 720x720 with 1 Axes>"
      ]
     },
     "metadata": {},
     "output_type": "display_data"
    }
   ],
   "source": [
    "labels=['노년 (100명)', '어린이 (11명)', '중년 (231명)', '청년 (228명)', '청소년 (6명)']\n",
    "not_p.groupby('age')['date'].count().plot.pie(labels = labels\n",
    "                    ,colors= ['#FFD92F','#8DA0CB','#99CC64','#FF97AF', '#FC8D62']\n",
    "                    ,startangle = 90\n",
    "                    ,shadow = True\n",
    "                    ,autopct = '%1.1f%%'\n",
    "                    ,explode = (0.05,0.05,0.05,0.05,0.05) \n",
    "                    ,figsize=(10, 10)\n",
    "                    ,fontsize = 25)\n",
    "plt.title('비임산부 착석자 나이', fontsize=35)\n",
    "pylab.ylabel('')"
   ]
  },
  {
   "cell_type": "code",
   "execution_count": 274,
   "metadata": {},
   "outputs": [
    {
     "data": {
      "text/plain": [
       "age\n",
       "노년     17.361111\n",
       "어린이     1.909722\n",
       "중년     40.104167\n",
       "청년     39.583333\n",
       "청소년     1.041667\n",
       "Name: date, dtype: float64"
      ]
     },
     "execution_count": 274,
     "metadata": {},
     "output_type": "execute_result"
    }
   ],
   "source": [
    "# 연령대 (비율)\n",
    "full.groupby('age')['date'].count().apply(lambda x: x / len(full) * 100)"
   ]
  },
  {
   "cell_type": "markdown",
   "metadata": {},
   "source": [
    "### 1-2-3. 비임산부 행동 분석"
   ]
  },
  {
   "cell_type": "code",
   "execution_count": 275,
   "metadata": {},
   "outputs": [
    {
     "name": "stdout",
     "output_type": "stream",
     "text": [
      "550\n",
      "59\n",
      "1\n"
     ]
    }
   ],
   "source": [
    "# 1가지 이상의 행동을 하고 있는 사람의 수: 550명\n",
    "# 2가지 이상의 행동을 하고 있는 사람의 수: 59명\n",
    "# 3가지 이상의 행동을 하고 있는 사람의 수: 1명\n",
    "# 2가지 또는 3가지의 행동을 동시에 하고 있는 사람을 각각 2명 또는 3명으로 간주하고 60개의 행을 추가할 예정\n",
    "print(len(not_p[~not_p['behavior1'].isnull()]))\n",
    "print(len(not_p[~not_p['behavior2'].isnull()]))\n",
    "print(len(not_p[~not_p['behavior3'].isnull()]))"
   ]
  },
  {
   "cell_type": "code",
   "execution_count": 276,
   "metadata": {},
   "outputs": [],
   "source": [
    "behavior1_df = not_p[~not_p['behavior1'].isnull()].loc[:,'date':'behavior1']\n",
    "behavior1_df = behavior1_df.rename(columns = {'behavior1':'behavior'})\n",
    "behavior2_df = not_p[~not_p['behavior2'].isnull()].loc[:,'date':'behavior2'].drop(['behavior1'], axis=1)\n",
    "behavior2_df = behavior2_df.rename(columns = {'behavior2':'behavior'})\n",
    "behavior3_df = not_p[~not_p['behavior3'].isnull()].loc[:,'date':'behavior3'].drop(['behavior1','behavior2'], axis=1)\n",
    "behavior3_df = behavior3_df.rename(columns = {'behavior3':'behavior'})"
   ]
  },
  {
   "cell_type": "code",
   "execution_count": 277,
   "metadata": {},
   "outputs": [
    {
     "data": {
      "text/plain": [
       "610"
      ]
     },
     "execution_count": 277,
     "metadata": {},
     "output_type": "execute_result"
    }
   ],
   "source": [
    "behavior_df = behavior1_df.append(behavior2_df).append(behavior3_df)\n",
    "len(behavior_df)"
   ]
  },
  {
   "cell_type": "code",
   "execution_count": 278,
   "metadata": {},
   "outputs": [
    {
     "data": {
      "text/html": [
       "<div>\n",
       "<style scoped>\n",
       "    .dataframe tbody tr th:only-of-type {\n",
       "        vertical-align: middle;\n",
       "    }\n",
       "\n",
       "    .dataframe tbody tr th {\n",
       "        vertical-align: top;\n",
       "    }\n",
       "\n",
       "    .dataframe thead tr th {\n",
       "        text-align: left;\n",
       "    }\n",
       "</style>\n",
       "<table border=\"1\" class=\"dataframe\">\n",
       "  <thead>\n",
       "    <tr>\n",
       "      <th></th>\n",
       "      <th>행동</th>\n",
       "      <th>개수</th>\n",
       "      <th>비율(%)</th>\n",
       "    </tr>\n",
       "  </thead>\n",
       "  <tbody>\n",
       "    <tr>\n",
       "      <th>0</th>\n",
       "      <td>핸드폰</td>\n",
       "      <td>302</td>\n",
       "      <td>54.91</td>\n",
       "    </tr>\n",
       "    <tr>\n",
       "      <th>1</th>\n",
       "      <td>멍</td>\n",
       "      <td>104</td>\n",
       "      <td>18.91</td>\n",
       "    </tr>\n",
       "    <tr>\n",
       "      <th>2</th>\n",
       "      <td>잠</td>\n",
       "      <td>93</td>\n",
       "      <td>16.91</td>\n",
       "    </tr>\n",
       "    <tr>\n",
       "      <th>3</th>\n",
       "      <td>이어폰</td>\n",
       "      <td>56</td>\n",
       "      <td>10.18</td>\n",
       "    </tr>\n",
       "    <tr>\n",
       "      <th>4</th>\n",
       "      <td>대화</td>\n",
       "      <td>31</td>\n",
       "      <td>5.64</td>\n",
       "    </tr>\n",
       "    <tr>\n",
       "      <th>5</th>\n",
       "      <td>통화</td>\n",
       "      <td>7</td>\n",
       "      <td>1.27</td>\n",
       "    </tr>\n",
       "    <tr>\n",
       "      <th>6</th>\n",
       "      <td>독서</td>\n",
       "      <td>7</td>\n",
       "      <td>1.27</td>\n",
       "    </tr>\n",
       "    <tr>\n",
       "      <th>7</th>\n",
       "      <td>먹기</td>\n",
       "      <td>4</td>\n",
       "      <td>0.73</td>\n",
       "    </tr>\n",
       "    <tr>\n",
       "      <th>8</th>\n",
       "      <td>화장</td>\n",
       "      <td>3</td>\n",
       "      <td>0.55</td>\n",
       "    </tr>\n",
       "    <tr>\n",
       "      <th>9</th>\n",
       "      <td>필기</td>\n",
       "      <td>3</td>\n",
       "      <td>0.55</td>\n",
       "    </tr>\n",
       "  </tbody>\n",
       "</table>\n",
       "</div>"
      ],
      "text/plain": [
       "    행동   개수  비율(%)\n",
       "0  핸드폰  302  54.91\n",
       "1    멍  104  18.91\n",
       "2    잠   93  16.91\n",
       "3  이어폰   56  10.18\n",
       "4   대화   31   5.64\n",
       "5   통화    7   1.27\n",
       "6   독서    7   1.27\n",
       "7   먹기    4   0.73\n",
       "8   화장    3   0.55\n",
       "9   필기    3   0.55"
      ]
     },
     "execution_count": 278,
     "metadata": {},
     "output_type": "execute_result"
    }
   ],
   "source": [
    "# 비율은 원래 전체 인원 수인 550로 나눠 구함 (total>100)\n",
    "not_p_behavior_num = behavior_df.groupby('behavior')['date'].size().sort_values(ascending=False)\n",
    "not_p_behavior_per = not_p_behavior_num.apply(lambda x: x / len(behavior1_df) *100).round(2).sort_values(ascending=False)\n",
    "not_p_behavior_df = pd.DataFrame([not_p_behavior_num, not_p_behavior_per]).T\n",
    "not_p_behavior_df.columns = [['개수', '비율(%)']]\n",
    "not_p_behavior_df['개수'] = not_p_behavior_df['개수'].astype(int)\n",
    "not_p_behavior_df.index.name = '행동'\n",
    "not_p_behavior_df.reset_index()"
   ]
  },
  {
   "cell_type": "markdown",
   "metadata": {},
   "source": [
    "#### 1-2-3-1. 비임산부 행동 분석 -연령별"
   ]
  },
  {
   "cell_type": "code",
   "execution_count": 279,
   "metadata": {},
   "outputs": [
    {
     "data": {
      "text/html": [
       "<div>\n",
       "<style scoped>\n",
       "    .dataframe tbody tr th:only-of-type {\n",
       "        vertical-align: middle;\n",
       "    }\n",
       "\n",
       "    .dataframe tbody tr th {\n",
       "        vertical-align: top;\n",
       "    }\n",
       "\n",
       "    .dataframe thead th {\n",
       "        text-align: right;\n",
       "    }\n",
       "</style>\n",
       "<table border=\"1\" class=\"dataframe\">\n",
       "  <thead>\n",
       "    <tr style=\"text-align: right;\">\n",
       "      <th></th>\n",
       "      <th>behavior</th>\n",
       "      <th>인원(명)</th>\n",
       "      <th>비율(%)</th>\n",
       "    </tr>\n",
       "  </thead>\n",
       "  <tbody>\n",
       "    <tr>\n",
       "      <th>0</th>\n",
       "      <td>멍</td>\n",
       "      <td>47</td>\n",
       "      <td>44.34</td>\n",
       "    </tr>\n",
       "    <tr>\n",
       "      <th>1</th>\n",
       "      <td>핸드폰</td>\n",
       "      <td>25</td>\n",
       "      <td>23.58</td>\n",
       "    </tr>\n",
       "    <tr>\n",
       "      <th>2</th>\n",
       "      <td>잠</td>\n",
       "      <td>20</td>\n",
       "      <td>18.87</td>\n",
       "    </tr>\n",
       "    <tr>\n",
       "      <th>3</th>\n",
       "      <td>대화</td>\n",
       "      <td>5</td>\n",
       "      <td>4.72</td>\n",
       "    </tr>\n",
       "    <tr>\n",
       "      <th>4</th>\n",
       "      <td>이어폰</td>\n",
       "      <td>4</td>\n",
       "      <td>3.77</td>\n",
       "    </tr>\n",
       "    <tr>\n",
       "      <th>5</th>\n",
       "      <td>독서</td>\n",
       "      <td>3</td>\n",
       "      <td>2.83</td>\n",
       "    </tr>\n",
       "    <tr>\n",
       "      <th>6</th>\n",
       "      <td>통화</td>\n",
       "      <td>1</td>\n",
       "      <td>0.94</td>\n",
       "    </tr>\n",
       "    <tr>\n",
       "      <th>7</th>\n",
       "      <td>필기</td>\n",
       "      <td>1</td>\n",
       "      <td>0.94</td>\n",
       "    </tr>\n",
       "  </tbody>\n",
       "</table>\n",
       "</div>"
      ],
      "text/plain": [
       "  behavior  인원(명)  비율(%)\n",
       "0        멍     47  44.34\n",
       "1      핸드폰     25  23.58\n",
       "2        잠     20  18.87\n",
       "3       대화      5   4.72\n",
       "4      이어폰      4   3.77\n",
       "5       독서      3   2.83\n",
       "6       통화      1   0.94\n",
       "7       필기      1   0.94"
      ]
     },
     "execution_count": 279,
     "metadata": {},
     "output_type": "execute_result"
    }
   ],
   "source": [
    "#노년층\n",
    "behavior_old_age = pd.DataFrame(behavior_df[behavior_df['old_age']==1].groupby('behavior')['date'].size()).rename(columns = {'date':'인원(명)'})\n",
    "behavior_old_age['비율(%)'] = round(behavior_old_age['인원(명)']/len(behavior_df[behavior_df['old_age']==1]) * 100, 2)\n",
    "behavior_old_age.index_name = '행동'\n",
    "behavior_old_age.sort_values(by='인원(명)', ascending=False).reset_index()"
   ]
  },
  {
   "cell_type": "code",
   "execution_count": 280,
   "metadata": {},
   "outputs": [
    {
     "data": {
      "text/html": [
       "<div>\n",
       "<style scoped>\n",
       "    .dataframe tbody tr th:only-of-type {\n",
       "        vertical-align: middle;\n",
       "    }\n",
       "\n",
       "    .dataframe tbody tr th {\n",
       "        vertical-align: top;\n",
       "    }\n",
       "\n",
       "    .dataframe thead th {\n",
       "        text-align: right;\n",
       "    }\n",
       "</style>\n",
       "<table border=\"1\" class=\"dataframe\">\n",
       "  <thead>\n",
       "    <tr style=\"text-align: right;\">\n",
       "      <th></th>\n",
       "      <th>behavior</th>\n",
       "      <th>인원(명)</th>\n",
       "      <th>비율(%)</th>\n",
       "    </tr>\n",
       "  </thead>\n",
       "  <tbody>\n",
       "    <tr>\n",
       "      <th>0</th>\n",
       "      <td>핸드폰</td>\n",
       "      <td>129</td>\n",
       "      <td>50.79</td>\n",
       "    </tr>\n",
       "    <tr>\n",
       "      <th>1</th>\n",
       "      <td>멍</td>\n",
       "      <td>43</td>\n",
       "      <td>16.93</td>\n",
       "    </tr>\n",
       "    <tr>\n",
       "      <th>2</th>\n",
       "      <td>잠</td>\n",
       "      <td>39</td>\n",
       "      <td>15.35</td>\n",
       "    </tr>\n",
       "    <tr>\n",
       "      <th>3</th>\n",
       "      <td>이어폰</td>\n",
       "      <td>20</td>\n",
       "      <td>7.87</td>\n",
       "    </tr>\n",
       "    <tr>\n",
       "      <th>4</th>\n",
       "      <td>대화</td>\n",
       "      <td>14</td>\n",
       "      <td>5.51</td>\n",
       "    </tr>\n",
       "    <tr>\n",
       "      <th>5</th>\n",
       "      <td>독서</td>\n",
       "      <td>3</td>\n",
       "      <td>1.18</td>\n",
       "    </tr>\n",
       "    <tr>\n",
       "      <th>6</th>\n",
       "      <td>통화</td>\n",
       "      <td>3</td>\n",
       "      <td>1.18</td>\n",
       "    </tr>\n",
       "    <tr>\n",
       "      <th>7</th>\n",
       "      <td>먹기</td>\n",
       "      <td>2</td>\n",
       "      <td>0.79</td>\n",
       "    </tr>\n",
       "    <tr>\n",
       "      <th>8</th>\n",
       "      <td>필기</td>\n",
       "      <td>1</td>\n",
       "      <td>0.39</td>\n",
       "    </tr>\n",
       "  </tbody>\n",
       "</table>\n",
       "</div>"
      ],
      "text/plain": [
       "  behavior  인원(명)  비율(%)\n",
       "0      핸드폰    129  50.79\n",
       "1        멍     43  16.93\n",
       "2        잠     39  15.35\n",
       "3      이어폰     20   7.87\n",
       "4       대화     14   5.51\n",
       "5       독서      3   1.18\n",
       "6       통화      3   1.18\n",
       "7       먹기      2   0.79\n",
       "8       필기      1   0.39"
      ]
     },
     "execution_count": 280,
     "metadata": {},
     "output_type": "execute_result"
    }
   ],
   "source": [
    "#중년층\n",
    "behavior_middle_age = pd.DataFrame(behavior_df[behavior_df['middle_age']==1].groupby('behavior')['date'].size()).rename(columns = {'date':'인원(명)'})\n",
    "behavior_middle_age['비율(%)'] = round(behavior_middle_age['인원(명)']/len(behavior_df[behavior_df['middle_age']==1]) * 100, 2)\n",
    "behavior_middle_age.index_name = '행동'\n",
    "behavior_middle_age.sort_values(by='인원(명)', ascending=False).reset_index()"
   ]
  },
  {
   "cell_type": "code",
   "execution_count": 281,
   "metadata": {},
   "outputs": [
    {
     "data": {
      "text/html": [
       "<div>\n",
       "<style scoped>\n",
       "    .dataframe tbody tr th:only-of-type {\n",
       "        vertical-align: middle;\n",
       "    }\n",
       "\n",
       "    .dataframe tbody tr th {\n",
       "        vertical-align: top;\n",
       "    }\n",
       "\n",
       "    .dataframe thead th {\n",
       "        text-align: right;\n",
       "    }\n",
       "</style>\n",
       "<table border=\"1\" class=\"dataframe\">\n",
       "  <thead>\n",
       "    <tr style=\"text-align: right;\">\n",
       "      <th></th>\n",
       "      <th>behavior</th>\n",
       "      <th>인원(명)</th>\n",
       "      <th>비율(%)</th>\n",
       "    </tr>\n",
       "  </thead>\n",
       "  <tbody>\n",
       "    <tr>\n",
       "      <th>0</th>\n",
       "      <td>핸드폰</td>\n",
       "      <td>139</td>\n",
       "      <td>59.91</td>\n",
       "    </tr>\n",
       "    <tr>\n",
       "      <th>1</th>\n",
       "      <td>잠</td>\n",
       "      <td>34</td>\n",
       "      <td>14.66</td>\n",
       "    </tr>\n",
       "    <tr>\n",
       "      <th>2</th>\n",
       "      <td>이어폰</td>\n",
       "      <td>31</td>\n",
       "      <td>13.36</td>\n",
       "    </tr>\n",
       "    <tr>\n",
       "      <th>3</th>\n",
       "      <td>멍</td>\n",
       "      <td>12</td>\n",
       "      <td>5.17</td>\n",
       "    </tr>\n",
       "    <tr>\n",
       "      <th>4</th>\n",
       "      <td>대화</td>\n",
       "      <td>6</td>\n",
       "      <td>2.59</td>\n",
       "    </tr>\n",
       "    <tr>\n",
       "      <th>5</th>\n",
       "      <td>통화</td>\n",
       "      <td>3</td>\n",
       "      <td>1.29</td>\n",
       "    </tr>\n",
       "    <tr>\n",
       "      <th>6</th>\n",
       "      <td>화장</td>\n",
       "      <td>3</td>\n",
       "      <td>1.29</td>\n",
       "    </tr>\n",
       "    <tr>\n",
       "      <th>7</th>\n",
       "      <td>먹기</td>\n",
       "      <td>2</td>\n",
       "      <td>0.86</td>\n",
       "    </tr>\n",
       "    <tr>\n",
       "      <th>8</th>\n",
       "      <td>독서</td>\n",
       "      <td>1</td>\n",
       "      <td>0.43</td>\n",
       "    </tr>\n",
       "    <tr>\n",
       "      <th>9</th>\n",
       "      <td>필기</td>\n",
       "      <td>1</td>\n",
       "      <td>0.43</td>\n",
       "    </tr>\n",
       "  </tbody>\n",
       "</table>\n",
       "</div>"
      ],
      "text/plain": [
       "  behavior  인원(명)  비율(%)\n",
       "0      핸드폰    139  59.91\n",
       "1        잠     34  14.66\n",
       "2      이어폰     31  13.36\n",
       "3        멍     12   5.17\n",
       "4       대화      6   2.59\n",
       "5       통화      3   1.29\n",
       "6       화장      3   1.29\n",
       "7       먹기      2   0.86\n",
       "8       독서      1   0.43\n",
       "9       필기      1   0.43"
      ]
     },
     "execution_count": 281,
     "metadata": {},
     "output_type": "execute_result"
    }
   ],
   "source": [
    "#청년층\n",
    "behavior_youth = pd.DataFrame(behavior_df[behavior_df['youth']==1].groupby('behavior')['date'].size()).rename(columns = {'date':'인원(명)'})\n",
    "behavior_youth['비율(%)'] = round(behavior_youth['인원(명)']/len(behavior_df[behavior_df['youth']==1]) * 100, 2)\n",
    "behavior_youth.index_name = '행동'\n",
    "behavior_youth.sort_values(by='인원(명)', ascending=False).reset_index()"
   ]
  },
  {
   "cell_type": "code",
   "execution_count": 282,
   "metadata": {},
   "outputs": [
    {
     "data": {
      "text/html": [
       "<div>\n",
       "<style scoped>\n",
       "    .dataframe tbody tr th:only-of-type {\n",
       "        vertical-align: middle;\n",
       "    }\n",
       "\n",
       "    .dataframe tbody tr th {\n",
       "        vertical-align: top;\n",
       "    }\n",
       "\n",
       "    .dataframe thead th {\n",
       "        text-align: right;\n",
       "    }\n",
       "</style>\n",
       "<table border=\"1\" class=\"dataframe\">\n",
       "  <thead>\n",
       "    <tr style=\"text-align: right;\">\n",
       "      <th></th>\n",
       "      <th>behavior</th>\n",
       "      <th>인원(명)</th>\n",
       "      <th>비율(%)</th>\n",
       "    </tr>\n",
       "  </thead>\n",
       "  <tbody>\n",
       "    <tr>\n",
       "      <th>0</th>\n",
       "      <td>핸드폰</td>\n",
       "      <td>5</td>\n",
       "      <td>83.33</td>\n",
       "    </tr>\n",
       "    <tr>\n",
       "      <th>1</th>\n",
       "      <td>대화</td>\n",
       "      <td>1</td>\n",
       "      <td>16.67</td>\n",
       "    </tr>\n",
       "  </tbody>\n",
       "</table>\n",
       "</div>"
      ],
      "text/plain": [
       "  behavior  인원(명)  비율(%)\n",
       "0      핸드폰      5  83.33\n",
       "1       대화      1  16.67"
      ]
     },
     "execution_count": 282,
     "metadata": {},
     "output_type": "execute_result"
    }
   ],
   "source": [
    "#청소년\n",
    "behavior_teenage = pd.DataFrame(behavior_df[behavior_df['teenage']==1].groupby('behavior')['date'].size()).rename(columns = {'date':'인원(명)'})\n",
    "behavior_teenage['비율(%)'] = round(behavior_teenage['인원(명)']/len(behavior_df[behavior_df['teenage']==1]) * 100, 2)\n",
    "behavior_teenage.index_name = '행동'\n",
    "behavior_teenage.sort_values(by='인원(명)', ascending=False).reset_index()"
   ]
  },
  {
   "cell_type": "code",
   "execution_count": 283,
   "metadata": {},
   "outputs": [
    {
     "data": {
      "text/html": [
       "<div>\n",
       "<style scoped>\n",
       "    .dataframe tbody tr th:only-of-type {\n",
       "        vertical-align: middle;\n",
       "    }\n",
       "\n",
       "    .dataframe tbody tr th {\n",
       "        vertical-align: top;\n",
       "    }\n",
       "\n",
       "    .dataframe thead th {\n",
       "        text-align: right;\n",
       "    }\n",
       "</style>\n",
       "<table border=\"1\" class=\"dataframe\">\n",
       "  <thead>\n",
       "    <tr style=\"text-align: right;\">\n",
       "      <th></th>\n",
       "      <th>behavior</th>\n",
       "      <th>인원(명)</th>\n",
       "      <th>비율(%)</th>\n",
       "    </tr>\n",
       "  </thead>\n",
       "  <tbody>\n",
       "    <tr>\n",
       "      <th>0</th>\n",
       "      <td>대화</td>\n",
       "      <td>5</td>\n",
       "      <td>41.67</td>\n",
       "    </tr>\n",
       "    <tr>\n",
       "      <th>1</th>\n",
       "      <td>핸드폰</td>\n",
       "      <td>4</td>\n",
       "      <td>33.33</td>\n",
       "    </tr>\n",
       "    <tr>\n",
       "      <th>2</th>\n",
       "      <td>멍</td>\n",
       "      <td>2</td>\n",
       "      <td>16.67</td>\n",
       "    </tr>\n",
       "    <tr>\n",
       "      <th>3</th>\n",
       "      <td>이어폰</td>\n",
       "      <td>1</td>\n",
       "      <td>8.33</td>\n",
       "    </tr>\n",
       "  </tbody>\n",
       "</table>\n",
       "</div>"
      ],
      "text/plain": [
       "  behavior  인원(명)  비율(%)\n",
       "0       대화      5  41.67\n",
       "1      핸드폰      4  33.33\n",
       "2        멍      2  16.67\n",
       "3      이어폰      1   8.33"
      ]
     },
     "execution_count": 283,
     "metadata": {},
     "output_type": "execute_result"
    }
   ],
   "source": [
    "#어린이\n",
    "behavior_child = pd.DataFrame(behavior_df[behavior_df['child']==1].groupby('behavior')['date'].size()).rename(columns = {'date':'인원(명)'})\n",
    "behavior_child['비율(%)'] = round(behavior_child['인원(명)']/len(behavior_df[behavior_df['child']==1]) * 100, 2)\n",
    "behavior_child.index_name = '행동'\n",
    "behavior_child.sort_values(by='인원(명)', ascending=False).reset_index()"
   ]
  },
  {
   "cell_type": "markdown",
   "metadata": {},
   "source": [
    "### 1-2-4. 노년 이용자와 노약자석 빈자리 여부\n",
    "임산부석 이용자 중 노년 이용자 수 : 100 명"
   ]
  },
  {
   "cell_type": "code",
   "execution_count": 284,
   "metadata": {},
   "outputs": [
    {
     "data": {
      "text/plain": [
       "0    52\n",
       "1    48\n",
       "Name: is_old_seat_empty, dtype: int64"
      ]
     },
     "execution_count": 284,
     "metadata": {},
     "output_type": "execute_result"
    }
   ],
   "source": [
    "table[table['old_age']==1]['is_old_seat_empty'].value_counts()"
   ]
  },
  {
   "cell_type": "code",
   "execution_count": 285,
   "metadata": {},
   "outputs": [
    {
     "data": {
      "text/plain": [
       "Text(0, 0.5, '')"
      ]
     },
     "execution_count": 285,
     "metadata": {},
     "output_type": "execute_result"
    },
    {
     "data": {
      "image/png": "[encoded data removed]",
      "text/plain": [
       "<Figure size 720x720 with 1 Axes>"
      ]
     },
     "metadata": {},
     "output_type": "display_data"
    }
   ],
   "source": [
    "labels=['빈자리 없음 (52석)', '빈자리 있음 (48석)']\n",
    "table.loc[table['old_age'] == 1,'is_old_seat_empty'].reset_index().groupby('is_old_seat_empty')['is_old_seat_empty'].count().plot.pie(labels = labels\n",
    "                    ,colors= ['#FF97AF', '#99CC64']\n",
    "                    ,startangle = 90\n",
    "                    ,shadow = True\n",
    "                    ,autopct = '%1.1f%%'\n",
    "                    ,explode = (0.1,0) \n",
    "                    ,figsize=(10, 10)\n",
    "                    ,fontsize = 30)\n",
    "plt.title('노년이 앉아 있을 때 노약자석 빈자리 여부', fontsize=35)\n",
    "pylab.ylabel('')"
   ]
  },
  {
   "cell_type": "code",
   "execution_count": 286,
   "metadata": {},
   "outputs": [
    {
     "data": {
      "text/plain": [
       "old_age  is_old_seat_empty\n",
       "0.0      0                    280\n",
       "         1                    196\n",
       "1.0      0                     52\n",
       "         1                     48\n",
       "Name: is_old_seat_empty, dtype: int64"
      ]
     },
     "execution_count": 286,
     "metadata": {},
     "output_type": "execute_result"
    }
   ],
   "source": [
    "table[['old_age','is_old_seat_empty']].groupby(['old_age','is_old_seat_empty'])['is_old_seat_empty'].count()"
   ]
  },
  {
   "cell_type": "code",
   "execution_count": 287,
   "metadata": {},
   "outputs": [],
   "source": [
    "oldage_oldageseat = table.loc[table['old_age'] == 1,'is_old_seat_empty'].reset_index().groupby('is_old_seat_empty')['is_old_seat_empty'].count()"
   ]
  },
  {
   "cell_type": "code",
   "execution_count": 288,
   "metadata": {},
   "outputs": [
    {
     "data": {
      "text/plain": [
       "is_old_seat_empty\n",
       "0    52\n",
       "1    48\n",
       "Name: is_old_seat_empty, dtype: int64"
      ]
     },
     "execution_count": 288,
     "metadata": {},
     "output_type": "execute_result"
    }
   ],
   "source": [
    "oldage_oldageseat"
   ]
  },
  {
   "cell_type": "code",
   "execution_count": 289,
   "metadata": {},
   "outputs": [
    {
     "name": "stdout",
     "output_type": "stream",
     "text": [
      "52%\n"
     ]
    }
   ],
   "source": [
    "#노인이 임산부석에 앉았고, 노약자석 중 빈 자리가 없을 때의 비율\n",
    "print(str(int(oldage_oldageseat[0]/(oldage_oldageseat[0] + oldage_oldageseat[1])*100))+'%')"
   ]
  },
  {
   "cell_type": "code",
   "execution_count": 290,
   "metadata": {},
   "outputs": [
    {
     "name": "stdout",
     "output_type": "stream",
     "text": [
      "48%\n"
     ]
    }
   ],
   "source": [
    "#노인이 임산부석에 앉았고, 노약자석 중 빈자리가 있을 때의 의 비율\n",
    "print(str(int(oldage_oldageseat[1]/(oldage_oldageseat[0] + oldage_oldageseat[1])*100))+'%')"
   ]
  },
  {
   "cell_type": "markdown",
   "metadata": {},
   "source": [
    "#### 1-2-4-1. 노약자석 빈자리 여부와 노년 이용자 착석 여부-호선별"
   ]
  },
  {
   "cell_type": "code",
   "execution_count": 291,
   "metadata": {},
   "outputs": [],
   "source": [
    "old_age = table[table['old_age'] == 1]"
   ]
  },
  {
   "cell_type": "code",
   "execution_count": 292,
   "metadata": {},
   "outputs": [
    {
     "data": {
      "text/plain": [
       "array([ 5,  9, 10,  6,  1,  7,  2, 11,  3], dtype=int64)"
      ]
     },
     "execution_count": 292,
     "metadata": {},
     "output_type": "execute_result"
    }
   ],
   "source": [
    "table.line.unique()"
   ]
  },
  {
   "cell_type": "code",
   "execution_count": 293,
   "metadata": {},
   "outputs": [
    {
     "data": {
      "text/html": [
       "<div>\n",
       "<style scoped>\n",
       "    .dataframe tbody tr th:only-of-type {\n",
       "        vertical-align: middle;\n",
       "    }\n",
       "\n",
       "    .dataframe tbody tr th {\n",
       "        vertical-align: top;\n",
       "    }\n",
       "\n",
       "    .dataframe thead tr th {\n",
       "        text-align: left;\n",
       "    }\n",
       "</style>\n",
       "<table border=\"1\" class=\"dataframe\">\n",
       "  <thead>\n",
       "    <tr>\n",
       "      <th></th>\n",
       "      <th>호선</th>\n",
       "      <th>노약자석 빈자리(개)</th>\n",
       "      <th>임산부석 노년 이용자(명)</th>\n",
       "    </tr>\n",
       "  </thead>\n",
       "  <tbody>\n",
       "    <tr>\n",
       "      <th>0</th>\n",
       "      <td>1</td>\n",
       "      <td>없음</td>\n",
       "      <td>21</td>\n",
       "    </tr>\n",
       "    <tr>\n",
       "      <th>1</th>\n",
       "      <td>1</td>\n",
       "      <td>있음</td>\n",
       "      <td>22</td>\n",
       "    </tr>\n",
       "    <tr>\n",
       "      <th>2</th>\n",
       "      <td>5</td>\n",
       "      <td>없음</td>\n",
       "      <td>18</td>\n",
       "    </tr>\n",
       "    <tr>\n",
       "      <th>3</th>\n",
       "      <td>5</td>\n",
       "      <td>있음</td>\n",
       "      <td>10</td>\n",
       "    </tr>\n",
       "    <tr>\n",
       "      <th>4</th>\n",
       "      <td>6</td>\n",
       "      <td>없음</td>\n",
       "      <td>3</td>\n",
       "    </tr>\n",
       "    <tr>\n",
       "      <th>5</th>\n",
       "      <td>6</td>\n",
       "      <td>있음</td>\n",
       "      <td>9</td>\n",
       "    </tr>\n",
       "    <tr>\n",
       "      <th>6</th>\n",
       "      <td>7</td>\n",
       "      <td>없음</td>\n",
       "      <td>3</td>\n",
       "    </tr>\n",
       "    <tr>\n",
       "      <th>7</th>\n",
       "      <td>7</td>\n",
       "      <td>있음</td>\n",
       "      <td>4</td>\n",
       "    </tr>\n",
       "    <tr>\n",
       "      <th>8</th>\n",
       "      <td>9</td>\n",
       "      <td>없음</td>\n",
       "      <td>2</td>\n",
       "    </tr>\n",
       "    <tr>\n",
       "      <th>9</th>\n",
       "      <td>10</td>\n",
       "      <td>없음</td>\n",
       "      <td>5</td>\n",
       "    </tr>\n",
       "    <tr>\n",
       "      <th>10</th>\n",
       "      <td>10</td>\n",
       "      <td>있음</td>\n",
       "      <td>3</td>\n",
       "    </tr>\n",
       "  </tbody>\n",
       "</table>\n",
       "</div>"
      ],
      "text/plain": [
       "    호선 노약자석 빈자리(개) 임산부석 노년 이용자(명)\n",
       "0    1          없음             21\n",
       "1    1          있음             22\n",
       "2    5          없음             18\n",
       "3    5          있음             10\n",
       "4    6          없음              3\n",
       "5    6          있음              9\n",
       "6    7          없음              3\n",
       "7    7          있음              4\n",
       "8    9          없음              2\n",
       "9   10          없음              5\n",
       "10  10          있음              3"
      ]
     },
     "execution_count": 293,
     "metadata": {},
     "output_type": "execute_result"
    }
   ],
   "source": [
    "# 노년 테이블 생성\n",
    "df_old_age = pd.DataFrame(old_age.groupby(['line','is_old_seat_empty'])['date'].count()).reset_index()\n",
    "df_old_age.columns = [['호선', '노약자석 빈자리(개)','임산부석 노년 이용자(명)']]\n",
    "df_old_age['노약자석 빈자리(개)'] = pd.Series(['없음', '있음', '없음', '있음', '없음', '있음', '없음', '있음', '없음', '없음', '있음'])\n",
    "df_old_age"
   ]
  },
  {
   "cell_type": "code",
   "execution_count": 294,
   "metadata": {},
   "outputs": [
    {
     "data": {
      "text/html": [
       "<div>\n",
       "<style scoped>\n",
       "    .dataframe tbody tr th:only-of-type {\n",
       "        vertical-align: middle;\n",
       "    }\n",
       "\n",
       "    .dataframe tbody tr th {\n",
       "        vertical-align: top;\n",
       "    }\n",
       "\n",
       "    .dataframe thead th {\n",
       "        text-align: right;\n",
       "    }\n",
       "</style>\n",
       "<table border=\"1\" class=\"dataframe\">\n",
       "  <thead>\n",
       "    <tr style=\"text-align: right;\">\n",
       "      <th></th>\n",
       "      <th></th>\n",
       "      <th></th>\n",
       "      <th>is_old_seat_empty</th>\n",
       "    </tr>\n",
       "    <tr>\n",
       "      <th>line</th>\n",
       "      <th>old_age</th>\n",
       "      <th>is_old_seat_empty</th>\n",
       "      <th></th>\n",
       "    </tr>\n",
       "  </thead>\n",
       "  <tbody>\n",
       "    <tr>\n",
       "      <th rowspan=\"2\" valign=\"top\">1</th>\n",
       "      <th rowspan=\"2\" valign=\"top\">1.0</th>\n",
       "      <th>0</th>\n",
       "      <td>21</td>\n",
       "    </tr>\n",
       "    <tr>\n",
       "      <th>1</th>\n",
       "      <td>22</td>\n",
       "    </tr>\n",
       "  </tbody>\n",
       "</table>\n",
       "</div>"
      ],
      "text/plain": [
       "                                is_old_seat_empty\n",
       "line old_age is_old_seat_empty                   \n",
       "1    1.0     0                                 21\n",
       "             1                                 22"
      ]
     },
     "execution_count": 294,
     "metadata": {},
     "output_type": "execute_result"
    }
   ],
   "source": [
    "pd.DataFrame(old_age[['line','old_age','is_old_seat_empty']].groupby(['line','old_age','is_old_seat_empty'])['is_old_seat_empty'].count()[0:2])\n",
    "# 1호선의 경우 \n",
    "# 노약자석 빈자리가 없을 때 임산부석 이용자 21명\n",
    "# 노약자석 빈자리가 있을 때 임산부석 이용자 22명"
   ]
  },
  {
   "cell_type": "code",
   "execution_count": 295,
   "metadata": {},
   "outputs": [
    {
     "data": {
      "text/html": [
       "<div>\n",
       "<style scoped>\n",
       "    .dataframe tbody tr th:only-of-type {\n",
       "        vertical-align: middle;\n",
       "    }\n",
       "\n",
       "    .dataframe tbody tr th {\n",
       "        vertical-align: top;\n",
       "    }\n",
       "\n",
       "    .dataframe thead th {\n",
       "        text-align: right;\n",
       "    }\n",
       "</style>\n",
       "<table border=\"1\" class=\"dataframe\">\n",
       "  <thead>\n",
       "    <tr style=\"text-align: right;\">\n",
       "      <th></th>\n",
       "      <th></th>\n",
       "      <th></th>\n",
       "      <th>is_old_seat_empty</th>\n",
       "    </tr>\n",
       "    <tr>\n",
       "      <th>line</th>\n",
       "      <th>old_age</th>\n",
       "      <th>is_old_seat_empty</th>\n",
       "      <th></th>\n",
       "    </tr>\n",
       "  </thead>\n",
       "  <tbody>\n",
       "    <tr>\n",
       "      <th rowspan=\"2\" valign=\"top\">5</th>\n",
       "      <th rowspan=\"2\" valign=\"top\">1.0</th>\n",
       "      <th>0</th>\n",
       "      <td>18</td>\n",
       "    </tr>\n",
       "    <tr>\n",
       "      <th>1</th>\n",
       "      <td>10</td>\n",
       "    </tr>\n",
       "  </tbody>\n",
       "</table>\n",
       "</div>"
      ],
      "text/plain": [
       "                                is_old_seat_empty\n",
       "line old_age is_old_seat_empty                   \n",
       "5    1.0     0                                 18\n",
       "             1                                 10"
      ]
     },
     "execution_count": 295,
     "metadata": {},
     "output_type": "execute_result"
    }
   ],
   "source": [
    "pd.DataFrame(old_age[['line','old_age','is_old_seat_empty']].groupby(['line','old_age','is_old_seat_empty'])['is_old_seat_empty'].count()[2:4])\n",
    "# 5호선의 경우 \n",
    "# 노약자석 빈자리가 없을 때 임산부석 이용자 18명\n",
    "# 노약자석 빈자리가 있을 때 임산부석 이용자 10명"
   ]
  },
  {
   "cell_type": "code",
   "execution_count": 296,
   "metadata": {},
   "outputs": [
    {
     "data": {
      "text/html": [
       "<div>\n",
       "<style scoped>\n",
       "    .dataframe tbody tr th:only-of-type {\n",
       "        vertical-align: middle;\n",
       "    }\n",
       "\n",
       "    .dataframe tbody tr th {\n",
       "        vertical-align: top;\n",
       "    }\n",
       "\n",
       "    .dataframe thead th {\n",
       "        text-align: right;\n",
       "    }\n",
       "</style>\n",
       "<table border=\"1\" class=\"dataframe\">\n",
       "  <thead>\n",
       "    <tr style=\"text-align: right;\">\n",
       "      <th></th>\n",
       "      <th></th>\n",
       "      <th></th>\n",
       "      <th>is_old_seat_empty</th>\n",
       "    </tr>\n",
       "    <tr>\n",
       "      <th>line</th>\n",
       "      <th>old_age</th>\n",
       "      <th>is_old_seat_empty</th>\n",
       "      <th></th>\n",
       "    </tr>\n",
       "  </thead>\n",
       "  <tbody>\n",
       "    <tr>\n",
       "      <th rowspan=\"2\" valign=\"top\">6</th>\n",
       "      <th rowspan=\"2\" valign=\"top\">1.0</th>\n",
       "      <th>0</th>\n",
       "      <td>3</td>\n",
       "    </tr>\n",
       "    <tr>\n",
       "      <th>1</th>\n",
       "      <td>9</td>\n",
       "    </tr>\n",
       "  </tbody>\n",
       "</table>\n",
       "</div>"
      ],
      "text/plain": [
       "                                is_old_seat_empty\n",
       "line old_age is_old_seat_empty                   \n",
       "6    1.0     0                                  3\n",
       "             1                                  9"
      ]
     },
     "execution_count": 296,
     "metadata": {},
     "output_type": "execute_result"
    }
   ],
   "source": [
    "pd.DataFrame(old_age[['line','old_age','is_old_seat_empty']].groupby(['line','old_age','is_old_seat_empty'])['is_old_seat_empty'].count()[4:6])\n",
    "# 6호선의 경우 \n",
    "# 노약자석 빈자리가 없을 때 임산부석 이용자 3명\n",
    "# 노약자석 빈자리가 있을 때 임산부석 이용자 9명"
   ]
  },
  {
   "cell_type": "code",
   "execution_count": 297,
   "metadata": {},
   "outputs": [
    {
     "data": {
      "text/html": [
       "<div>\n",
       "<style scoped>\n",
       "    .dataframe tbody tr th:only-of-type {\n",
       "        vertical-align: middle;\n",
       "    }\n",
       "\n",
       "    .dataframe tbody tr th {\n",
       "        vertical-align: top;\n",
       "    }\n",
       "\n",
       "    .dataframe thead th {\n",
       "        text-align: right;\n",
       "    }\n",
       "</style>\n",
       "<table border=\"1\" class=\"dataframe\">\n",
       "  <thead>\n",
       "    <tr style=\"text-align: right;\">\n",
       "      <th></th>\n",
       "      <th></th>\n",
       "      <th></th>\n",
       "      <th>is_old_seat_empty</th>\n",
       "    </tr>\n",
       "    <tr>\n",
       "      <th>line</th>\n",
       "      <th>old_age</th>\n",
       "      <th>is_old_seat_empty</th>\n",
       "      <th></th>\n",
       "    </tr>\n",
       "  </thead>\n",
       "  <tbody>\n",
       "    <tr>\n",
       "      <th rowspan=\"2\" valign=\"top\">7</th>\n",
       "      <th rowspan=\"2\" valign=\"top\">1.0</th>\n",
       "      <th>0</th>\n",
       "      <td>3</td>\n",
       "    </tr>\n",
       "    <tr>\n",
       "      <th>1</th>\n",
       "      <td>4</td>\n",
       "    </tr>\n",
       "  </tbody>\n",
       "</table>\n",
       "</div>"
      ],
      "text/plain": [
       "                                is_old_seat_empty\n",
       "line old_age is_old_seat_empty                   \n",
       "7    1.0     0                                  3\n",
       "             1                                  4"
      ]
     },
     "execution_count": 297,
     "metadata": {},
     "output_type": "execute_result"
    }
   ],
   "source": [
    "pd.DataFrame(old_age[['line','old_age','is_old_seat_empty']].groupby(['line','old_age','is_old_seat_empty'])['is_old_seat_empty'].count()[6:8])\n",
    "# 7호선의 경우 \n",
    "# 노약자석 빈자리가 없을 때 임산부석 이용자 3명\n",
    "# 노약자석 빈자리가 있을 때 임산부석 이용자 4명"
   ]
  },
  {
   "cell_type": "code",
   "execution_count": 298,
   "metadata": {},
   "outputs": [
    {
     "data": {
      "text/html": [
       "<div>\n",
       "<style scoped>\n",
       "    .dataframe tbody tr th:only-of-type {\n",
       "        vertical-align: middle;\n",
       "    }\n",
       "\n",
       "    .dataframe tbody tr th {\n",
       "        vertical-align: top;\n",
       "    }\n",
       "\n",
       "    .dataframe thead th {\n",
       "        text-align: right;\n",
       "    }\n",
       "</style>\n",
       "<table border=\"1\" class=\"dataframe\">\n",
       "  <thead>\n",
       "    <tr style=\"text-align: right;\">\n",
       "      <th></th>\n",
       "      <th></th>\n",
       "      <th></th>\n",
       "      <th>is_old_seat_empty</th>\n",
       "    </tr>\n",
       "    <tr>\n",
       "      <th>line</th>\n",
       "      <th>old_age</th>\n",
       "      <th>is_old_seat_empty</th>\n",
       "      <th></th>\n",
       "    </tr>\n",
       "  </thead>\n",
       "  <tbody>\n",
       "    <tr>\n",
       "      <th>9</th>\n",
       "      <th>1.0</th>\n",
       "      <th>0</th>\n",
       "      <td>2</td>\n",
       "    </tr>\n",
       "  </tbody>\n",
       "</table>\n",
       "</div>"
      ],
      "text/plain": [
       "                                is_old_seat_empty\n",
       "line old_age is_old_seat_empty                   \n",
       "9    1.0     0                                  2"
      ]
     },
     "execution_count": 298,
     "metadata": {},
     "output_type": "execute_result"
    }
   ],
   "source": [
    "pd.DataFrame(old_age[['line','old_age','is_old_seat_empty']].groupby(['line','old_age','is_old_seat_empty'])['is_old_seat_empty'].count()[8:9])\n",
    "# 9호선의 경우 \n",
    "# 노약자석 빈자리가 없을 때 임산부석 이용자 2명\n",
    "# 노약자석 빈자리가 있을 때 임산부석 이용자 0명"
   ]
  },
  {
   "cell_type": "code",
   "execution_count": 299,
   "metadata": {},
   "outputs": [
    {
     "data": {
      "text/html": [
       "<div>\n",
       "<style scoped>\n",
       "    .dataframe tbody tr th:only-of-type {\n",
       "        vertical-align: middle;\n",
       "    }\n",
       "\n",
       "    .dataframe tbody tr th {\n",
       "        vertical-align: top;\n",
       "    }\n",
       "\n",
       "    .dataframe thead th {\n",
       "        text-align: right;\n",
       "    }\n",
       "</style>\n",
       "<table border=\"1\" class=\"dataframe\">\n",
       "  <thead>\n",
       "    <tr style=\"text-align: right;\">\n",
       "      <th></th>\n",
       "      <th></th>\n",
       "      <th></th>\n",
       "      <th>is_old_seat_empty</th>\n",
       "    </tr>\n",
       "    <tr>\n",
       "      <th>line</th>\n",
       "      <th>old_age</th>\n",
       "      <th>is_old_seat_empty</th>\n",
       "      <th></th>\n",
       "    </tr>\n",
       "  </thead>\n",
       "  <tbody>\n",
       "    <tr>\n",
       "      <th rowspan=\"2\" valign=\"top\">10</th>\n",
       "      <th rowspan=\"2\" valign=\"top\">1.0</th>\n",
       "      <th>0</th>\n",
       "      <td>5</td>\n",
       "    </tr>\n",
       "    <tr>\n",
       "      <th>1</th>\n",
       "      <td>3</td>\n",
       "    </tr>\n",
       "  </tbody>\n",
       "</table>\n",
       "</div>"
      ],
      "text/plain": [
       "                                is_old_seat_empty\n",
       "line old_age is_old_seat_empty                   \n",
       "10   1.0     0                                  5\n",
       "             1                                  3"
      ]
     },
     "execution_count": 299,
     "metadata": {},
     "output_type": "execute_result"
    }
   ],
   "source": [
    "pd.DataFrame(old_age[['line','old_age','is_old_seat_empty']].groupby(['line','old_age','is_old_seat_empty'])['is_old_seat_empty'].count()[9:11])\n",
    "# 분당선의 경우 \n",
    "# 노약자석 빈자리가 없을 때 임산부석 이용자 5명\n",
    "# 노약자석 빈자리가 있을 때 임산부석 이용자 3명"
   ]
  },
  {
   "cell_type": "markdown",
   "metadata": {},
   "source": [
    "*노약자석 빈자리 여부와 노년 이용자 착석 여부에 대한 결론* <br>\n",
    "*노약자석의 여부와 노년층의 임산부석 이용에 대한 상관관계는 희미한 것으로 해석됨. (5호선만 상관관계가 있어보임)*"
   ]
  },
  {
   "cell_type": "markdown",
   "metadata": {},
   "source": [
    "### 1-2-5. 비임산부 착석자가 무거운 짐을 가지고 있는지 여부"
   ]
  },
  {
   "cell_type": "code",
   "execution_count": 300,
   "metadata": {},
   "outputs": [
    {
     "data": {
      "text/html": [
       "<div>\n",
       "<style scoped>\n",
       "    .dataframe tbody tr th:only-of-type {\n",
       "        vertical-align: middle;\n",
       "    }\n",
       "\n",
       "    .dataframe tbody tr th {\n",
       "        vertical-align: top;\n",
       "    }\n",
       "\n",
       "    .dataframe thead tr th {\n",
       "        text-align: left;\n",
       "    }\n",
       "</style>\n",
       "<table border=\"1\" class=\"dataframe\">\n",
       "  <thead>\n",
       "    <tr>\n",
       "      <th></th>\n",
       "      <th>짐</th>\n",
       "      <th>개수</th>\n",
       "      <th>비율(%)</th>\n",
       "    </tr>\n",
       "  </thead>\n",
       "  <tbody>\n",
       "    <tr>\n",
       "      <th>0</th>\n",
       "      <td>가볍다</td>\n",
       "      <td>364</td>\n",
       "      <td>66.18</td>\n",
       "    </tr>\n",
       "    <tr>\n",
       "      <th>1</th>\n",
       "      <td>무겁다</td>\n",
       "      <td>186</td>\n",
       "      <td>33.82</td>\n",
       "    </tr>\n",
       "  </tbody>\n",
       "</table>\n",
       "</div>"
      ],
      "text/plain": [
       "     짐   개수  비율(%)\n",
       "0  가볍다  364  66.18\n",
       "1  무겁다  186  33.82"
      ]
     },
     "execution_count": 300,
     "metadata": {},
     "output_type": "execute_result"
    }
   ],
   "source": [
    "# 무거운 짐을 갖고 있는 인원 수 \n",
    "# 0: 짐 없음, 1: 노트북이 들어가는 정도 이상의 짐을 가지고 있음\n",
    "not_p_heavy_num = not_p['heavy'].value_counts()\n",
    "not_p_heavy_per = not_p_heavy_num.apply(lambda x: x / len(not_p) * 100).round(2)\n",
    "not_p_heavy_df = pd.DataFrame([not_p_heavy_num, not_p_heavy_per]).T\n",
    "not_p_heavy_df.columns = [['개수', '비율(%)']]\n",
    "not_p_heavy_df = not_p_heavy_df.set_index(pd.Series(['가볍다', '무겁다']))\n",
    "not_p_heavy_df['개수'] = not_p_heavy_df['개수'].astype(int)\n",
    "not_p_heavy_df.index.name = '짐'\n",
    "not_p_heavy_df.reset_index()"
   ]
  },
  {
   "cell_type": "code",
   "execution_count": 301,
   "metadata": {},
   "outputs": [
    {
     "data": {
      "text/plain": [
       "0.0    66.666667\n",
       "1.0    33.333333\n",
       "Name: heavy, dtype: float64"
      ]
     },
     "execution_count": 301,
     "metadata": {},
     "output_type": "execute_result"
    }
   ],
   "source": [
    "# 무거운 짐을 갖고 있는 비율\n",
    "full['heavy'].value_counts().apply(lambda x: x / len(full) * 100)"
   ]
  },
  {
   "cell_type": "code",
   "execution_count": 302,
   "metadata": {},
   "outputs": [
    {
     "data": {
      "text/plain": [
       "Text(0, 0.5, '')"
      ]
     },
     "execution_count": 302,
     "metadata": {},
     "output_type": "execute_result"
    },
    {
     "data": {
      "image/png": "[encoded data removed]",
      "text/plain": [
       "<Figure size 720x720 with 1 Axes>"
      ]
     },
     "metadata": {},
     "output_type": "display_data"
    }
   ],
   "source": [
    "labels=['X (364명)', 'O (186명)']\n",
    "not_p['heavy'].value_counts().plot.pie(labels = labels\n",
    "                    ,colors= ['#FF97AF', '#99CC64']\n",
    "                    ,startangle = 90\n",
    "                    ,shadow = True\n",
    "                    ,autopct = '%1.1f%%'\n",
    "                    ,explode = (0.1,0) \n",
    "                    ,figsize=(10, 10)\n",
    "                    ,fontsize = 30)\n",
    "plt.title('비임산부 착석자 무거운 짐 소지 여부', fontsize=35)\n",
    "pylab.ylabel('')"
   ]
  },
  {
   "cell_type": "markdown",
   "metadata": {},
   "source": [
    "#### 1-2-5-1. 나이와 짐의 무게"
   ]
  },
  {
   "cell_type": "code",
   "execution_count": 303,
   "metadata": {
    "scrolled": true
   },
   "outputs": [
    {
     "name": "stdout",
     "output_type": "stream",
     "text": [
      "노년 : 34.0 %\n",
      "중년 : 33.33 %\n",
      "청년 : 35.15 %\n",
      "청소년 : 50.0 %\n",
      "어린이 : 9.09 %\n"
     ]
    }
   ],
   "source": [
    "heavy_age_dict = {'노년':'old_age', '중년':'middle_age', '청년':'youth', '청소년':'teenage', '어린이':'child'}\n",
    "for key in heavy_age_dict.keys():\n",
    "    print(key, \":\",  round(len(not_p[(not_p[heavy_age_dict[key]]==1) & (not_p['heavy']==1)]) / len(not_p[(not_p[heavy_age_dict[key]]==1)])*100,2), \"%\")"
   ]
  },
  {
   "cell_type": "code",
   "execution_count": 304,
   "metadata": {},
   "outputs": [
    {
     "data": {
      "text/html": [
       "<div>\n",
       "<style scoped>\n",
       "    .dataframe tbody tr th:only-of-type {\n",
       "        vertical-align: middle;\n",
       "    }\n",
       "\n",
       "    .dataframe tbody tr th {\n",
       "        vertical-align: top;\n",
       "    }\n",
       "\n",
       "    .dataframe thead th {\n",
       "        text-align: right;\n",
       "    }\n",
       "</style>\n",
       "<table border=\"1\" class=\"dataframe\">\n",
       "  <thead>\n",
       "    <tr style=\"text-align: right;\">\n",
       "      <th></th>\n",
       "      <th>연령대</th>\n",
       "      <th>짐</th>\n",
       "      <th>인원수</th>\n",
       "    </tr>\n",
       "  </thead>\n",
       "  <tbody>\n",
       "    <tr>\n",
       "      <th>0</th>\n",
       "      <td>노년</td>\n",
       "      <td>가볍다</td>\n",
       "      <td>66</td>\n",
       "    </tr>\n",
       "    <tr>\n",
       "      <th>1</th>\n",
       "      <td>노년</td>\n",
       "      <td>무겁다</td>\n",
       "      <td>34</td>\n",
       "    </tr>\n",
       "    <tr>\n",
       "      <th>2</th>\n",
       "      <td>어린이</td>\n",
       "      <td>가볍다</td>\n",
       "      <td>10</td>\n",
       "    </tr>\n",
       "    <tr>\n",
       "      <th>3</th>\n",
       "      <td>어린이</td>\n",
       "      <td>무겁다</td>\n",
       "      <td>1</td>\n",
       "    </tr>\n",
       "    <tr>\n",
       "      <th>4</th>\n",
       "      <td>중년</td>\n",
       "      <td>가볍다</td>\n",
       "      <td>154</td>\n",
       "    </tr>\n",
       "    <tr>\n",
       "      <th>5</th>\n",
       "      <td>중년</td>\n",
       "      <td>무겁다</td>\n",
       "      <td>77</td>\n",
       "    </tr>\n",
       "    <tr>\n",
       "      <th>6</th>\n",
       "      <td>청년</td>\n",
       "      <td>가볍다</td>\n",
       "      <td>131</td>\n",
       "    </tr>\n",
       "    <tr>\n",
       "      <th>7</th>\n",
       "      <td>청년</td>\n",
       "      <td>무겁다</td>\n",
       "      <td>71</td>\n",
       "    </tr>\n",
       "    <tr>\n",
       "      <th>8</th>\n",
       "      <td>청소년</td>\n",
       "      <td>가볍다</td>\n",
       "      <td>3</td>\n",
       "    </tr>\n",
       "    <tr>\n",
       "      <th>9</th>\n",
       "      <td>청소년</td>\n",
       "      <td>무겁다</td>\n",
       "      <td>3</td>\n",
       "    </tr>\n",
       "  </tbody>\n",
       "</table>\n",
       "</div>"
      ],
      "text/plain": [
       "   연령대    짐  인원수\n",
       "0   노년  가볍다   66\n",
       "1   노년  무겁다   34\n",
       "2  어린이  가볍다   10\n",
       "3  어린이  무겁다    1\n",
       "4   중년  가볍다  154\n",
       "5   중년  무겁다   77\n",
       "6   청년  가볍다  131\n",
       "7   청년  무겁다   71\n",
       "8  청소년  가볍다    3\n",
       "9  청소년  무겁다    3"
      ]
     },
     "execution_count": 304,
     "metadata": {},
     "output_type": "execute_result"
    }
   ],
   "source": [
    "df_age_heavy=pd.DataFrame(not_p.groupby(['age','heavy'])['date'].size()).reset_index()\n",
    "df_age_heavy = df_age_heavy.rename(columns={'age':'연령대', 'heavy':'짐', 'date':'인원수'})\n",
    "df_age_heavy['짐'] = pd.Series(['가볍다', '무겁다','가볍다', '무겁다','가볍다', '무겁다','가볍다', '무겁다','가볍다', '무겁다'])\n",
    "df_age_heavy"
   ]
  },
  {
   "cell_type": "code",
   "execution_count": 305,
   "metadata": {},
   "outputs": [
    {
     "data": {
      "text/plain": [
       "Text(0, 0.5, '')"
      ]
     },
     "execution_count": 305,
     "metadata": {},
     "output_type": "execute_result"
    },
    {
     "data": {
      "image/png": "[encoded data removed]",
      "text/plain": [
       "<Figure size 720x720 with 5 Axes>"
      ]
     },
     "metadata": {},
     "output_type": "display_data"
    }
   ],
   "source": [
    "plt.subplot(231)\n",
    "labels=['X (10명)', 'O (1명)']\n",
    "not_p.loc[table['age'] == '어린이','heavy'].reset_index().groupby('heavy')['heavy'].count().plot.pie(labels = labels\n",
    "                    ,colors= ['#FF97AF', '#99CC64']\n",
    "                    ,startangle = 90\n",
    "                    ,shadow = True\n",
    "                    ,autopct = '%1.1f%%'\n",
    "                    ,explode = (0.1,0) \n",
    "                    ,y='old_age_seat'\n",
    "                    ,figsize=(10, 10)\n",
    "                    ,fontsize = 10)\n",
    "plt.title('어린이 무거운 짐 소지 여부', fontsize=15)\n",
    "pylab.ylabel('')\n",
    "\n",
    "plt.subplot(232)\n",
    "labels=['X (3명)', 'O (3명)']\n",
    "not_p.loc[table['age'] == '청소년','heavy'].reset_index().groupby('heavy')['heavy'].count().plot.pie(labels = labels\n",
    "                    ,colors= ['#FF97AF', '#99CC64']\n",
    "                    ,startangle = 90\n",
    "                    ,shadow = True\n",
    "                    ,autopct = '%1.1f%%'\n",
    "                    ,explode = (0.1,0) \n",
    "                    ,y='old_age_seat'\n",
    "                    ,figsize=(10, 10)\n",
    "                    ,fontsize = 10)\n",
    "plt.title('청소년 무거운 짐 소지 여부', fontsize=15)\n",
    "pylab.ylabel('')\n",
    "\n",
    "plt.subplot(233)\n",
    "labels=['X (131명)', 'O (71명)']\n",
    "not_p.loc[table['age'] == '청년','heavy'].reset_index().groupby('heavy')['heavy'].count().plot.pie(labels = labels\n",
    "                    ,colors= ['#FF97AF', '#99CC64']\n",
    "                    ,startangle = 90\n",
    "                    ,shadow = True\n",
    "                    ,autopct = '%1.1f%%'\n",
    "                    ,explode = (0.1,0) \n",
    "                    ,y='old_age_seat'\n",
    "                    ,figsize=(10, 10)\n",
    "                    ,fontsize = 10)\n",
    "plt.title('청년 무거운 짐 소지 여부', fontsize=15)\n",
    "pylab.ylabel('')\n",
    "\n",
    "plt.subplot(234)\n",
    "labels=['X (154명)', 'O (77명)']\n",
    "not_p.loc[table['age'] == '중년','heavy'].reset_index().groupby('heavy')['heavy'].count().plot.pie(labels = labels\n",
    "                    ,colors= ['#FF97AF', '#99CC64']\n",
    "                    ,startangle = 90\n",
    "                    ,shadow = True\n",
    "                    ,autopct = '%1.1f%%'\n",
    "                    ,explode = (0.1,0) \n",
    "                    ,y='old_age_seat'\n",
    "                    ,figsize=(10, 10)\n",
    "                    ,fontsize = 10)\n",
    "plt.title('중년의 무거운 짐 소지 여부', fontsize=15)\n",
    "pylab.ylabel('')\n",
    "\n",
    "plt.subplot(235)\n",
    "labels=['X (66명)', 'O (34명)']\n",
    "not_p.loc[table['age'] == '노년','heavy'].reset_index().groupby('heavy')['heavy'].count().plot.pie(labels = labels\n",
    "                    ,colors= ['#FF97AF', '#99CC64']\n",
    "                    ,startangle = 90\n",
    "                    ,shadow = True\n",
    "                    ,autopct = '%1.1f%%'\n",
    "                    ,explode = (0.1,0) \n",
    "                    ,y='old_age_seat'\n",
    "                    ,figsize=(10, 10)\n",
    "                    ,fontsize = 10)\n",
    "plt.title('노년의 무거운 짐 소지 여부', fontsize=15)\n",
    "pylab.ylabel('')"
   ]
  },
  {
   "cell_type": "markdown",
   "metadata": {},
   "source": [
    "#### 1-2-5-2. 비임산부의 무거운 짐 소지 여부와 임산부석 착석 비율"
   ]
  },
  {
   "cell_type": "code",
   "execution_count": 306,
   "metadata": {},
   "outputs": [
    {
     "data": {
      "text/plain": [
       "heavy\n",
       "0.0    76.712329\n",
       "1.0    23.287671\n",
       "dtype: float64"
      ]
     },
     "execution_count": 306,
     "metadata": {},
     "output_type": "execute_result"
    }
   ],
   "source": [
    "# E 상태일 때 무거운 짐이 있는 사람(1) vs 없는 사람(0)\n",
    "E_heavy = len(table[(table['heavy'] == 1) & (table['E']==1)])\n",
    "E_not_heavy= len(table[(table['heavy'] == 0) & (table['E']==1)])\n",
    "table[(table['E']==1)].groupby('heavy').size().apply(lambda x: (x/(E_heavy + E_not_heavy)) * 100)"
   ]
  },
  {
   "cell_type": "code",
   "execution_count": 307,
   "metadata": {},
   "outputs": [
    {
     "data": {
      "text/plain": [
       "heavy\n",
       "0.0    59.493671\n",
       "1.0    40.506329\n",
       "dtype: float64"
      ]
     },
     "execution_count": 307,
     "metadata": {},
     "output_type": "execute_result"
    }
   ],
   "source": [
    "# N 상태일 때 무거운 짐이 있는 사람(1) vs 없는 사람(0)\n",
    "N_heavy = len(table[(table['heavy'] == 1) & (table['N']==1)])\n",
    "N_not_heavy = len(table[(table['heavy'] == 0) & (table['N']==1)])\n",
    "table[(table['N']==1)].groupby('heavy').size().apply(lambda x: (x/(N_heavy + N_not_heavy)) * 100)"
   ]
  },
  {
   "cell_type": "code",
   "execution_count": 308,
   "metadata": {},
   "outputs": [
    {
     "data": {
      "text/plain": [
       "heavy\n",
       "0.0    70.300752\n",
       "1.0    29.699248\n",
       "dtype: float64"
      ]
     },
     "execution_count": 308,
     "metadata": {},
     "output_type": "execute_result"
    }
   ],
   "source": [
    "# F 상태일 때 무거운 짐이 있는 사람(1) vs 없는 사람(0)\n",
    "F_heavy = len(table[(table['heavy'] == 1) & (table['F']==1)])\n",
    "F_not_heavy = len(table[(table['heavy'] == 0) & (table['F']==1)])\n",
    "table[(table['F']==1)].groupby('heavy').size().apply(lambda x: (x/(F_heavy + F_not_heavy)) * 100)"
   ]
  },
  {
   "cell_type": "code",
   "execution_count": 309,
   "metadata": {
    "scrolled": true
   },
   "outputs": [
    {
     "data": {
      "text/html": [
       "<div>\n",
       "<style scoped>\n",
       "    .dataframe tbody tr th:only-of-type {\n",
       "        vertical-align: middle;\n",
       "    }\n",
       "\n",
       "    .dataframe tbody tr th {\n",
       "        vertical-align: top;\n",
       "    }\n",
       "\n",
       "    .dataframe thead th {\n",
       "        text-align: right;\n",
       "    }\n",
       "</style>\n",
       "<table border=\"1\" class=\"dataframe\">\n",
       "  <thead>\n",
       "    <tr style=\"text-align: right;\">\n",
       "      <th>무거운 짐 + 붐빔 정도</th>\n",
       "      <th>사람 수</th>\n",
       "      <th>비율</th>\n",
       "    </tr>\n",
       "  </thead>\n",
       "  <tbody>\n",
       "    <tr>\n",
       "      <th>E</th>\n",
       "      <td>17</td>\n",
       "      <td>8%</td>\n",
       "    </tr>\n",
       "    <tr>\n",
       "      <th>N</th>\n",
       "      <td>96</td>\n",
       "      <td>50%</td>\n",
       "    </tr>\n",
       "    <tr>\n",
       "      <th>F</th>\n",
       "      <td>79</td>\n",
       "      <td>41%</td>\n",
       "    </tr>\n",
       "  </tbody>\n",
       "</table>\n",
       "</div>"
      ],
      "text/plain": [
       "무거운 짐 + 붐빔 정도 사람 수   비율\n",
       "E               17   8%\n",
       "N               96  50%\n",
       "F               79  41%"
      ]
     },
     "metadata": {},
     "output_type": "display_data"
    },
    {
     "data": {
      "text/html": [
       "<div>\n",
       "<style scoped>\n",
       "    .dataframe tbody tr th:only-of-type {\n",
       "        vertical-align: middle;\n",
       "    }\n",
       "\n",
       "    .dataframe tbody tr th {\n",
       "        vertical-align: top;\n",
       "    }\n",
       "\n",
       "    .dataframe thead th {\n",
       "        text-align: right;\n",
       "    }\n",
       "</style>\n",
       "<table border=\"1\" class=\"dataframe\">\n",
       "  <thead>\n",
       "    <tr style=\"text-align: right;\">\n",
       "      <th>가벼운 짐 + 붐빔 정도</th>\n",
       "      <th>사람 수</th>\n",
       "      <th>비율</th>\n",
       "    </tr>\n",
       "  </thead>\n",
       "  <tbody>\n",
       "    <tr>\n",
       "      <th>E</th>\n",
       "      <td>56</td>\n",
       "      <td>14%</td>\n",
       "    </tr>\n",
       "    <tr>\n",
       "      <th>N</th>\n",
       "      <td>141</td>\n",
       "      <td>36%</td>\n",
       "    </tr>\n",
       "    <tr>\n",
       "      <th>F</th>\n",
       "      <td>187</td>\n",
       "      <td>48%</td>\n",
       "    </tr>\n",
       "  </tbody>\n",
       "</table>\n",
       "</div>"
      ],
      "text/plain": [
       "가벼운 짐 + 붐빔 정도 사람 수   비율\n",
       "E               56  14%\n",
       "N              141  36%\n",
       "F              187  48%"
      ]
     },
     "metadata": {},
     "output_type": "display_data"
    }
   ],
   "source": [
    "sum_heavy_ENF = E_heavy+N_heavy+F_heavy\n",
    "sum_not_heavy_ENF = E_not_heavy+N_not_heavy+F_not_heavy\n",
    "heavy_ENF = pd.DataFrame({'무거운 짐 + 붐빔 정도':[\"사람 수\", \"비율\"],\n",
    "                        'E': [E_heavy, str(int((E_heavy/sum_heavy_ENF)*100))+\"%\"],\n",
    "                          'N': [N_heavy, str(int((N_heavy/sum_heavy_ENF)*100))+\"%\"],\n",
    "                          'F': [F_heavy, str(int((F_heavy/sum_heavy_ENF)*100))+\"%\"]})\n",
    "\n",
    "not_heavy_ENF = pd.DataFrame({'가벼운 짐 + 붐빔 정도':[\"사람 수\", \"비율\"],\n",
    "                            'E': [E_not_heavy, str(int((E_not_heavy/sum_not_heavy_ENF)*100))+\"%\"],\n",
    "                              'N': [N_not_heavy, str(int((N_not_heavy/sum_not_heavy_ENF)*100))+\"%\"],\n",
    "                              'F': [F_not_heavy, str(int((F_not_heavy/sum_not_heavy_ENF)*100))+\"%\"]})\n",
    "\n",
    "hENF = heavy_ENF.set_index('무거운 짐 + 붐빔 정도').T\n",
    "nhENF = not_heavy_ENF.set_index('가벼운 짐 + 붐빔 정도').T\n",
    "display(hENF.iloc[0:3])\n",
    "display(nhENF.iloc[0:3])"
   ]
  },
  {
   "cell_type": "markdown",
   "metadata": {},
   "source": [
    "----\n",
    "# 2. 임산부석이 비어있는 열차 내 환경 분석 : 붐빔 정도"
   ]
  },
  {
   "cell_type": "markdown",
   "metadata": {},
   "source": [
    "## 2-1. 붐빔정도와 임산부석 착석 여부"
   ]
  },
  {
   "cell_type": "code",
   "execution_count": 310,
   "metadata": {},
   "outputs": [
    {
     "data": {
      "image/png": "[encoded data removed]",
      "text/plain": [
       "<Figure size 432x288 with 1 Axes>"
      ]
     },
     "metadata": {
      "needs_background": "light"
     },
     "output_type": "display_data"
    }
   ],
   "source": [
    "a = sns.countplot(x=\"crowdedness\", hue=\"is_p_seat_empty\", order=['E','N','F'], data=table)\n",
    "plt.title(\"붐빔정도와 임산부석 빈자리의 상관관계\")\n",
    "a.set(xlabel='붐빔정도', ylabel='빈자리 수')\n",
    "plt.show()"
   ]
  },
  {
   "cell_type": "code",
   "execution_count": 311,
   "metadata": {},
   "outputs": [
    {
     "data": {
      "text/plain": [
       "crowdedness\n",
       "E     73\n",
       "F    266\n",
       "N    237\n",
       "Name: date, dtype: int64"
      ]
     },
     "execution_count": 311,
     "metadata": {},
     "output_type": "execute_result"
    }
   ],
   "source": [
    "full.groupby('crowdedness')['date'].size()"
   ]
  },
  {
   "cell_type": "code",
   "execution_count": 312,
   "metadata": {},
   "outputs": [
    {
     "data": {
      "text/plain": [
       "crowdedness  is_p_seat_empty\n",
       "E            0                   73\n",
       "             1                  118\n",
       "F            0                  266\n",
       "             1                   45\n",
       "N            0                  237\n",
       "             1                   94\n",
       "Name: date, dtype: int64"
      ]
     },
     "execution_count": 312,
     "metadata": {},
     "output_type": "execute_result"
    }
   ],
   "source": [
    "table.groupby(['crowdedness','is_p_seat_empty'])['date'].size()"
   ]
  },
  {
   "cell_type": "code",
   "execution_count": 313,
   "metadata": {},
   "outputs": [
    {
     "data": {
      "text/plain": [
       "is_p_seat_empty\n",
       "0    38.219895\n",
       "1    61.780105\n",
       "Name: date, dtype: float64"
      ]
     },
     "execution_count": 313,
     "metadata": {},
     "output_type": "execute_result"
    }
   ],
   "source": [
    "table[table['E']==1].groupby('is_p_seat_empty')['date'].size().apply(lambda x: x/len(table[table['E']==1])*100)"
   ]
  },
  {
   "cell_type": "code",
   "execution_count": 314,
   "metadata": {},
   "outputs": [
    {
     "data": {
      "text/plain": [
       "is_p_seat_empty\n",
       "0    71.601208\n",
       "1    28.398792\n",
       "Name: date, dtype: float64"
      ]
     },
     "execution_count": 314,
     "metadata": {},
     "output_type": "execute_result"
    }
   ],
   "source": [
    "table[table['N']==1].groupby('is_p_seat_empty')['date'].size().apply(lambda x: x/len(table[table['N']==1])*100)"
   ]
  },
  {
   "cell_type": "code",
   "execution_count": 315,
   "metadata": {},
   "outputs": [
    {
     "data": {
      "text/plain": [
       "is_p_seat_empty\n",
       "0    85.530547\n",
       "1    14.469453\n",
       "Name: date, dtype: float64"
      ]
     },
     "execution_count": 315,
     "metadata": {},
     "output_type": "execute_result"
    }
   ],
   "source": [
    "table[table['F']==1].groupby('is_p_seat_empty')['date'].size().apply(lambda x: x/len(table[table['F']==1])*100)"
   ]
  },
  {
   "cell_type": "code",
   "execution_count": 316,
   "metadata": {},
   "outputs": [
    {
     "data": {
      "text/plain": [
       "1110.0"
      ]
     },
     "execution_count": 316,
     "metadata": {},
     "output_type": "execute_result"
    }
   ],
   "source": [
    "# 임산부석이 비어있었던 역 구간의 개수 합계\n",
    "table['p_seat_empty_count'].sum()"
   ]
  },
  {
   "cell_type": "code",
   "execution_count": 317,
   "metadata": {},
   "outputs": [
    {
     "data": {
      "text/plain": [
       "55.5"
      ]
     },
     "execution_count": 317,
     "metadata": {},
     "output_type": "execute_result"
    }
   ],
   "source": [
    "# 임산부석이 비어있었던 시간 (역 개수 * 3분)\n",
    "((table['p_seat_empty_count'].sum())*3)/60"
   ]
  },
  {
   "cell_type": "code",
   "execution_count": 318,
   "metadata": {},
   "outputs": [],
   "source": [
    "#각 붐빔 정도마다 테이블 생성\n",
    "empty = table[table['E']==1] \n",
    "normal = table[table['N']==1]\n",
    "full = table[table['F']==1]"
   ]
  },
  {
   "cell_type": "code",
   "execution_count": 319,
   "metadata": {},
   "outputs": [
    {
     "data": {
      "text/plain": [
       "593.0"
      ]
     },
     "execution_count": 319,
     "metadata": {},
     "output_type": "execute_result"
    }
   ],
   "source": [
    "# 관찰 시간 내에, 열차 내 환경이 일반좌석이 비어 있을 때, 임산부석이 비어있던 역의 개수\n",
    "empty[empty['is_p_seat_empty']==1]['p_seat_empty_count'].sum()"
   ]
  },
  {
   "cell_type": "code",
   "execution_count": 320,
   "metadata": {},
   "outputs": [
    {
     "data": {
      "text/plain": [
       "337.0"
      ]
     },
     "execution_count": 320,
     "metadata": {},
     "output_type": "execute_result"
    }
   ],
   "source": [
    "# 관찰 시간 내에, 열차 내 환경이 빈 좌석이 없고, 서있는 승객이 20명 이하일 때 임산부석이 비어있던 역의 개수\n",
    "normal[normal['is_p_seat_empty']==1]['p_seat_empty_count'].sum()"
   ]
  },
  {
   "cell_type": "code",
   "execution_count": 321,
   "metadata": {},
   "outputs": [
    {
     "data": {
      "text/plain": [
       "180.0"
      ]
     },
     "execution_count": 321,
     "metadata": {},
     "output_type": "execute_result"
    }
   ],
   "source": [
    "# 관찰 시간 내에, 열차 내 환경이 빈 좌석이 없고, 서있는 승객이 20명 이상일 때 임산부석이 비어있던 역의 개수\n",
    "full[full['is_p_seat_empty']==1]['p_seat_empty_count'].sum()"
   ]
  },
  {
   "cell_type": "code",
   "execution_count": 322,
   "metadata": {},
   "outputs": [],
   "source": [
    "T1 = round(empty[empty['is_p_seat_empty']==1]['p_seat_empty_count'].sum()/table['p_seat_empty_count'].sum()*100,1).astype(int)\n",
    "T2 = round(normal[normal['is_p_seat_empty']==1]['p_seat_empty_count'].sum()/table['p_seat_empty_count'].sum()*100,1).astype(int)\n",
    "T3 = round(full[full['is_p_seat_empty']==1]['p_seat_empty_count'].sum()/table['p_seat_empty_count'].sum()*100,1).astype(int)"
   ]
  },
  {
   "cell_type": "code",
   "execution_count": 323,
   "metadata": {},
   "outputs": [],
   "source": [
    "V = pd.Series([T1, T2, T3])"
   ]
  },
  {
   "cell_type": "code",
   "execution_count": 324,
   "metadata": {},
   "outputs": [
    {
     "data": {
      "text/plain": [
       "0    53\n",
       "1    30\n",
       "2    16\n",
       "dtype: int64"
      ]
     },
     "execution_count": 324,
     "metadata": {},
     "output_type": "execute_result"
    }
   ],
   "source": [
    "V"
   ]
  },
  {
   "cell_type": "code",
   "execution_count": 325,
   "metadata": {
    "scrolled": true
   },
   "outputs": [
    {
     "data": {
      "text/plain": [
       "Text(0, 0.5, '')"
      ]
     },
     "execution_count": 325,
     "metadata": {},
     "output_type": "execute_result"
    },
    {
     "data": {
      "image/png": "[encoded data removed]",
      "text/plain": [
       "<Figure size 720x720 with 1 Axes>"
      ]
     },
     "metadata": {},
     "output_type": "display_data"
    }
   ],
   "source": [
    "labels=['E (593개역)', 'N (337개역)', 'F (180개역)']\n",
    "V.plot.pie(labels = labels\n",
    "                    ,colors= ['#FF97AF', '#99CC64','#FFD92F']\n",
    "                    ,startangle = 90\n",
    "                    ,shadow = True\n",
    "                    ,autopct = '%1.1f%%'   \n",
    "                    ,subplots=True\n",
    "                    ,explode = (0.04, 0.04, 0.04)\n",
    "                    ,figsize=(10, 10)\n",
    "                    ,fontsize = 40)\n",
    "plt.title('붐빔 정도에 따른 임산부석이 비어있던 비율', fontsize=35)\n",
    "pylab.ylabel('')"
   ]
  },
  {
   "cell_type": "markdown",
   "metadata": {},
   "source": [
    "### 2-1-1. 호선별 붐빔정도와 임산부석 착석 여부"
   ]
  },
  {
   "cell_type": "code",
   "execution_count": 326,
   "metadata": {},
   "outputs": [],
   "source": [
    "# 임산부가 아닌 착석자 테이블 생성\n",
    "not_empty = table[table['is_p_seat_empty']== 0]"
   ]
  },
  {
   "cell_type": "code",
   "execution_count": 327,
   "metadata": {},
   "outputs": [],
   "source": [
    "not_pregnant = not_empty[not_empty['pregnant'] == 0]"
   ]
  },
  {
   "cell_type": "code",
   "execution_count": 328,
   "metadata": {},
   "outputs": [
    {
     "data": {
      "text/plain": [
       "array([0.])"
      ]
     },
     "execution_count": 328,
     "metadata": {},
     "output_type": "execute_result"
    }
   ],
   "source": [
    "not_pregnant['pregnant'].unique()"
   ]
  },
  {
   "cell_type": "code",
   "execution_count": 329,
   "metadata": {},
   "outputs": [
    {
     "data": {
      "text/html": [
       "<div>\n",
       "<style scoped>\n",
       "    .dataframe tbody tr th:only-of-type {\n",
       "        vertical-align: middle;\n",
       "    }\n",
       "\n",
       "    .dataframe tbody tr th {\n",
       "        vertical-align: top;\n",
       "    }\n",
       "\n",
       "    .dataframe thead th {\n",
       "        text-align: right;\n",
       "    }\n",
       "</style>\n",
       "<table border=\"1\" class=\"dataframe\">\n",
       "  <thead>\n",
       "    <tr style=\"text-align: right;\">\n",
       "      <th></th>\n",
       "      <th></th>\n",
       "      <th>count_people</th>\n",
       "    </tr>\n",
       "    <tr>\n",
       "      <th>line</th>\n",
       "      <th>crowdedness</th>\n",
       "      <th></th>\n",
       "    </tr>\n",
       "  </thead>\n",
       "  <tbody>\n",
       "    <tr>\n",
       "      <th rowspan=\"3\" valign=\"top\">1</th>\n",
       "      <th>E</th>\n",
       "      <td>23</td>\n",
       "    </tr>\n",
       "    <tr>\n",
       "      <th>F</th>\n",
       "      <td>99</td>\n",
       "    </tr>\n",
       "    <tr>\n",
       "      <th>N</th>\n",
       "      <td>86</td>\n",
       "    </tr>\n",
       "    <tr>\n",
       "      <th rowspan=\"2\" valign=\"top\">2</th>\n",
       "      <th>E</th>\n",
       "      <td>1</td>\n",
       "    </tr>\n",
       "    <tr>\n",
       "      <th>N</th>\n",
       "      <td>4</td>\n",
       "    </tr>\n",
       "    <tr>\n",
       "      <th>3</th>\n",
       "      <th>F</th>\n",
       "      <td>1</td>\n",
       "    </tr>\n",
       "    <tr>\n",
       "      <th rowspan=\"3\" valign=\"top\">5</th>\n",
       "      <th>E</th>\n",
       "      <td>14</td>\n",
       "    </tr>\n",
       "    <tr>\n",
       "      <th>F</th>\n",
       "      <td>63</td>\n",
       "    </tr>\n",
       "    <tr>\n",
       "      <th>N</th>\n",
       "      <td>59</td>\n",
       "    </tr>\n",
       "    <tr>\n",
       "      <th rowspan=\"3\" valign=\"top\">6</th>\n",
       "      <th>E</th>\n",
       "      <td>9</td>\n",
       "    </tr>\n",
       "    <tr>\n",
       "      <th>F</th>\n",
       "      <td>15</td>\n",
       "    </tr>\n",
       "    <tr>\n",
       "      <th>N</th>\n",
       "      <td>53</td>\n",
       "    </tr>\n",
       "    <tr>\n",
       "      <th rowspan=\"3\" valign=\"top\">7</th>\n",
       "      <th>E</th>\n",
       "      <td>12</td>\n",
       "    </tr>\n",
       "    <tr>\n",
       "      <th>F</th>\n",
       "      <td>24</td>\n",
       "    </tr>\n",
       "    <tr>\n",
       "      <th>N</th>\n",
       "      <td>15</td>\n",
       "    </tr>\n",
       "    <tr>\n",
       "      <th rowspan=\"3\" valign=\"top\">9</th>\n",
       "      <th>E</th>\n",
       "      <td>1</td>\n",
       "    </tr>\n",
       "    <tr>\n",
       "      <th>F</th>\n",
       "      <td>5</td>\n",
       "    </tr>\n",
       "    <tr>\n",
       "      <th>N</th>\n",
       "      <td>2</td>\n",
       "    </tr>\n",
       "    <tr>\n",
       "      <th rowspan=\"3\" valign=\"top\">10</th>\n",
       "      <th>E</th>\n",
       "      <td>6</td>\n",
       "    </tr>\n",
       "    <tr>\n",
       "      <th>F</th>\n",
       "      <td>44</td>\n",
       "    </tr>\n",
       "    <tr>\n",
       "      <th>N</th>\n",
       "      <td>11</td>\n",
       "    </tr>\n",
       "    <tr>\n",
       "      <th>11</th>\n",
       "      <th>F</th>\n",
       "      <td>3</td>\n",
       "    </tr>\n",
       "  </tbody>\n",
       "</table>\n",
       "</div>"
      ],
      "text/plain": [
       "                  count_people\n",
       "line crowdedness              \n",
       "1    E                      23\n",
       "     F                      99\n",
       "     N                      86\n",
       "2    E                       1\n",
       "     N                       4\n",
       "3    F                       1\n",
       "5    E                      14\n",
       "     F                      63\n",
       "     N                      59\n",
       "6    E                       9\n",
       "     F                      15\n",
       "     N                      53\n",
       "7    E                      12\n",
       "     F                      24\n",
       "     N                      15\n",
       "9    E                       1\n",
       "     F                       5\n",
       "     N                       2\n",
       "10   E                       6\n",
       "     F                      44\n",
       "     N                      11\n",
       "11   F                       3"
      ]
     },
     "execution_count": 329,
     "metadata": {},
     "output_type": "execute_result"
    }
   ],
   "source": [
    "#전체 숫자 확인\n",
    "pd.DataFrame(not_pregnant.groupby(['line','crowdedness'])['date'].size()).rename(columns={'date':'count_people'})"
   ]
  },
  {
   "cell_type": "code",
   "execution_count": 330,
   "metadata": {},
   "outputs": [],
   "source": [
    "# 각 호선별 붐빔정도에 따라 퍼센트를 구해줄 수 있는 함수 작성\n",
    "def func_percentage(line):\n",
    "    percentage = []\n",
    "    for i in line['crowdedness'].unique():\n",
    "        percentage.append(round(float(line[line['crowdedness'] == i]['count_people'])/line['count_people'].sum()*100,2))\n",
    "    return percentage"
   ]
  },
  {
   "cell_type": "code",
   "execution_count": 331,
   "metadata": {},
   "outputs": [
    {
     "data": {
      "text/html": [
       "<div>\n",
       "<style scoped>\n",
       "    .dataframe tbody tr th:only-of-type {\n",
       "        vertical-align: middle;\n",
       "    }\n",
       "\n",
       "    .dataframe tbody tr th {\n",
       "        vertical-align: top;\n",
       "    }\n",
       "\n",
       "    .dataframe thead th {\n",
       "        text-align: right;\n",
       "    }\n",
       "</style>\n",
       "<table border=\"1\" class=\"dataframe\">\n",
       "  <thead>\n",
       "    <tr style=\"text-align: right;\">\n",
       "      <th></th>\n",
       "      <th>line</th>\n",
       "      <th>crowdedness</th>\n",
       "      <th>count_people</th>\n",
       "    </tr>\n",
       "  </thead>\n",
       "  <tbody>\n",
       "    <tr>\n",
       "      <th>0</th>\n",
       "      <td>1</td>\n",
       "      <td>E</td>\n",
       "      <td>23</td>\n",
       "    </tr>\n",
       "    <tr>\n",
       "      <th>1</th>\n",
       "      <td>1</td>\n",
       "      <td>F</td>\n",
       "      <td>99</td>\n",
       "    </tr>\n",
       "    <tr>\n",
       "      <th>2</th>\n",
       "      <td>1</td>\n",
       "      <td>N</td>\n",
       "      <td>86</td>\n",
       "    </tr>\n",
       "    <tr>\n",
       "      <th>3</th>\n",
       "      <td>2</td>\n",
       "      <td>E</td>\n",
       "      <td>1</td>\n",
       "    </tr>\n",
       "    <tr>\n",
       "      <th>4</th>\n",
       "      <td>2</td>\n",
       "      <td>N</td>\n",
       "      <td>4</td>\n",
       "    </tr>\n",
       "    <tr>\n",
       "      <th>5</th>\n",
       "      <td>3</td>\n",
       "      <td>F</td>\n",
       "      <td>1</td>\n",
       "    </tr>\n",
       "    <tr>\n",
       "      <th>6</th>\n",
       "      <td>5</td>\n",
       "      <td>E</td>\n",
       "      <td>14</td>\n",
       "    </tr>\n",
       "    <tr>\n",
       "      <th>7</th>\n",
       "      <td>5</td>\n",
       "      <td>F</td>\n",
       "      <td>63</td>\n",
       "    </tr>\n",
       "    <tr>\n",
       "      <th>8</th>\n",
       "      <td>5</td>\n",
       "      <td>N</td>\n",
       "      <td>59</td>\n",
       "    </tr>\n",
       "    <tr>\n",
       "      <th>9</th>\n",
       "      <td>6</td>\n",
       "      <td>E</td>\n",
       "      <td>9</td>\n",
       "    </tr>\n",
       "    <tr>\n",
       "      <th>10</th>\n",
       "      <td>6</td>\n",
       "      <td>F</td>\n",
       "      <td>15</td>\n",
       "    </tr>\n",
       "    <tr>\n",
       "      <th>11</th>\n",
       "      <td>6</td>\n",
       "      <td>N</td>\n",
       "      <td>53</td>\n",
       "    </tr>\n",
       "    <tr>\n",
       "      <th>12</th>\n",
       "      <td>7</td>\n",
       "      <td>E</td>\n",
       "      <td>12</td>\n",
       "    </tr>\n",
       "    <tr>\n",
       "      <th>13</th>\n",
       "      <td>7</td>\n",
       "      <td>F</td>\n",
       "      <td>24</td>\n",
       "    </tr>\n",
       "    <tr>\n",
       "      <th>14</th>\n",
       "      <td>7</td>\n",
       "      <td>N</td>\n",
       "      <td>15</td>\n",
       "    </tr>\n",
       "    <tr>\n",
       "      <th>15</th>\n",
       "      <td>9</td>\n",
       "      <td>E</td>\n",
       "      <td>1</td>\n",
       "    </tr>\n",
       "    <tr>\n",
       "      <th>16</th>\n",
       "      <td>9</td>\n",
       "      <td>F</td>\n",
       "      <td>5</td>\n",
       "    </tr>\n",
       "    <tr>\n",
       "      <th>17</th>\n",
       "      <td>9</td>\n",
       "      <td>N</td>\n",
       "      <td>2</td>\n",
       "    </tr>\n",
       "    <tr>\n",
       "      <th>18</th>\n",
       "      <td>10</td>\n",
       "      <td>E</td>\n",
       "      <td>6</td>\n",
       "    </tr>\n",
       "    <tr>\n",
       "      <th>19</th>\n",
       "      <td>10</td>\n",
       "      <td>F</td>\n",
       "      <td>44</td>\n",
       "    </tr>\n",
       "    <tr>\n",
       "      <th>20</th>\n",
       "      <td>10</td>\n",
       "      <td>N</td>\n",
       "      <td>11</td>\n",
       "    </tr>\n",
       "    <tr>\n",
       "      <th>21</th>\n",
       "      <td>11</td>\n",
       "      <td>F</td>\n",
       "      <td>3</td>\n",
       "    </tr>\n",
       "  </tbody>\n",
       "</table>\n",
       "</div>"
      ],
      "text/plain": [
       "    line crowdedness  count_people\n",
       "0      1           E            23\n",
       "1      1           F            99\n",
       "2      1           N            86\n",
       "3      2           E             1\n",
       "4      2           N             4\n",
       "5      3           F             1\n",
       "6      5           E            14\n",
       "7      5           F            63\n",
       "8      5           N            59\n",
       "9      6           E             9\n",
       "10     6           F            15\n",
       "11     6           N            53\n",
       "12     7           E            12\n",
       "13     7           F            24\n",
       "14     7           N            15\n",
       "15     9           E             1\n",
       "16     9           F             5\n",
       "17     9           N             2\n",
       "18    10           E             6\n",
       "19    10           F            44\n",
       "20    10           N            11\n",
       "21    11           F             3"
      ]
     },
     "execution_count": 331,
     "metadata": {},
     "output_type": "execute_result"
    }
   ],
   "source": [
    "# 라인별 착석자수로 이루어진 새로운 테이블 생성\n",
    "# 퍼센트를 담을 list 생성\n",
    "lines_total_counts = pd.DataFrame(not_pregnant.groupby(['line','crowdedness'])['date'].size()).reset_index().rename(columns={'date':'count_people'})\n",
    "lines_total_counts"
   ]
  },
  {
   "cell_type": "code",
   "execution_count": 332,
   "metadata": {},
   "outputs": [],
   "source": [
    "lines_p_list = []"
   ]
  },
  {
   "cell_type": "code",
   "execution_count": 333,
   "metadata": {},
   "outputs": [
    {
     "data": {
      "text/html": [
       "<div>\n",
       "<style scoped>\n",
       "    .dataframe tbody tr th:only-of-type {\n",
       "        vertical-align: middle;\n",
       "    }\n",
       "\n",
       "    .dataframe tbody tr th {\n",
       "        vertical-align: top;\n",
       "    }\n",
       "\n",
       "    .dataframe thead th {\n",
       "        text-align: right;\n",
       "    }\n",
       "</style>\n",
       "<table border=\"1\" class=\"dataframe\">\n",
       "  <thead>\n",
       "    <tr style=\"text-align: right;\">\n",
       "      <th></th>\n",
       "      <th>line</th>\n",
       "      <th>crowdedness</th>\n",
       "      <th>count_people</th>\n",
       "      <th>people_percentage</th>\n",
       "    </tr>\n",
       "  </thead>\n",
       "  <tbody>\n",
       "    <tr>\n",
       "      <th>0</th>\n",
       "      <td>1</td>\n",
       "      <td>E</td>\n",
       "      <td>23</td>\n",
       "      <td>11.06</td>\n",
       "    </tr>\n",
       "    <tr>\n",
       "      <th>1</th>\n",
       "      <td>1</td>\n",
       "      <td>F</td>\n",
       "      <td>99</td>\n",
       "      <td>47.60</td>\n",
       "    </tr>\n",
       "    <tr>\n",
       "      <th>2</th>\n",
       "      <td>1</td>\n",
       "      <td>N</td>\n",
       "      <td>86</td>\n",
       "      <td>41.35</td>\n",
       "    </tr>\n",
       "  </tbody>\n",
       "</table>\n",
       "</div>"
      ],
      "text/plain": [
       "   line crowdedness  count_people  people_percentage\n",
       "0     1           E            23              11.06\n",
       "1     1           F            99              47.60\n",
       "2     1           N            86              41.35"
      ]
     },
     "execution_count": 333,
     "metadata": {},
     "output_type": "execute_result"
    }
   ],
   "source": [
    "# 1호선\n",
    "line1 = lines_total_counts[lines_total_counts['line'] == 1].copy()\n",
    "line1['people_percentage'] = func_percentage(line1)\n",
    "line1"
   ]
  },
  {
   "cell_type": "code",
   "execution_count": 334,
   "metadata": {},
   "outputs": [
    {
     "data": {
      "image/png": "[encoded data removed]",
      "text/plain": [
       "<Figure size 432x288 with 1 Axes>"
      ]
     },
     "metadata": {
      "needs_background": "light"
     },
     "output_type": "display_data"
    }
   ],
   "source": [
    "line1_data = pd.DataFrame(table[table['line'] == 1])\n",
    "a = sns.countplot(x=\"crowdedness\", hue=\"is_p_seat_empty\", order=['E','N','F'], data=line1_data)\n",
    "plt.title(\"1호선 붐빔정도와 임산부석 빈자리의 상관관계\")\n",
    "a.set(xlabel='붐빔정도', ylabel='빈자리 수')\n",
    "plt.show()"
   ]
  },
  {
   "cell_type": "code",
   "execution_count": 335,
   "metadata": {},
   "outputs": [
    {
     "data": {
      "text/html": [
       "<div>\n",
       "<style scoped>\n",
       "    .dataframe tbody tr th:only-of-type {\n",
       "        vertical-align: middle;\n",
       "    }\n",
       "\n",
       "    .dataframe tbody tr th {\n",
       "        vertical-align: top;\n",
       "    }\n",
       "\n",
       "    .dataframe thead th {\n",
       "        text-align: right;\n",
       "    }\n",
       "</style>\n",
       "<table border=\"1\" class=\"dataframe\">\n",
       "  <thead>\n",
       "    <tr style=\"text-align: right;\">\n",
       "      <th></th>\n",
       "      <th>line</th>\n",
       "      <th>crowdedness</th>\n",
       "      <th>count_people</th>\n",
       "      <th>people_percentage</th>\n",
       "    </tr>\n",
       "  </thead>\n",
       "  <tbody>\n",
       "    <tr>\n",
       "      <th>3</th>\n",
       "      <td>2</td>\n",
       "      <td>E</td>\n",
       "      <td>1</td>\n",
       "      <td>20.0</td>\n",
       "    </tr>\n",
       "    <tr>\n",
       "      <th>4</th>\n",
       "      <td>2</td>\n",
       "      <td>N</td>\n",
       "      <td>4</td>\n",
       "      <td>80.0</td>\n",
       "    </tr>\n",
       "  </tbody>\n",
       "</table>\n",
       "</div>"
      ],
      "text/plain": [
       "   line crowdedness  count_people  people_percentage\n",
       "3     2           E             1               20.0\n",
       "4     2           N             4               80.0"
      ]
     },
     "execution_count": 335,
     "metadata": {},
     "output_type": "execute_result"
    }
   ],
   "source": [
    "# 2호선\n",
    "line2 = lines_total_counts[lines_total_counts['line'] == 2].copy()\n",
    "line2['people_percentage'] = func_percentage(line2)\n",
    "line2"
   ]
  },
  {
   "cell_type": "code",
   "execution_count": 336,
   "metadata": {},
   "outputs": [
    {
     "data": {
      "image/png": "[encoded data removed]",
      "text/plain": [
       "<Figure size 432x288 with 1 Axes>"
      ]
     },
     "metadata": {
      "needs_background": "light"
     },
     "output_type": "display_data"
    }
   ],
   "source": [
    "line2_data = pd.DataFrame(table[table['line'] == 2])\n",
    "a = sns.countplot(x=\"crowdedness\", hue=\"is_p_seat_empty\", order=['E','N','F'], data=line2_data)\n",
    "plt.title(\"2호선 붐빔정도와 임산부석 빈자리의 상관관계\")\n",
    "a.set(xlabel='붐빔정도', ylabel='빈자리 수')\n",
    "plt.show()"
   ]
  },
  {
   "cell_type": "code",
   "execution_count": 337,
   "metadata": {},
   "outputs": [
    {
     "data": {
      "text/html": [
       "<div>\n",
       "<style scoped>\n",
       "    .dataframe tbody tr th:only-of-type {\n",
       "        vertical-align: middle;\n",
       "    }\n",
       "\n",
       "    .dataframe tbody tr th {\n",
       "        vertical-align: top;\n",
       "    }\n",
       "\n",
       "    .dataframe thead th {\n",
       "        text-align: right;\n",
       "    }\n",
       "</style>\n",
       "<table border=\"1\" class=\"dataframe\">\n",
       "  <thead>\n",
       "    <tr style=\"text-align: right;\">\n",
       "      <th></th>\n",
       "      <th>line</th>\n",
       "      <th>crowdedness</th>\n",
       "      <th>count_people</th>\n",
       "      <th>people_percentage</th>\n",
       "    </tr>\n",
       "  </thead>\n",
       "  <tbody>\n",
       "    <tr>\n",
       "      <th>5</th>\n",
       "      <td>3</td>\n",
       "      <td>F</td>\n",
       "      <td>1</td>\n",
       "      <td>100.0</td>\n",
       "    </tr>\n",
       "  </tbody>\n",
       "</table>\n",
       "</div>"
      ],
      "text/plain": [
       "   line crowdedness  count_people  people_percentage\n",
       "5     3           F             1              100.0"
      ]
     },
     "execution_count": 337,
     "metadata": {},
     "output_type": "execute_result"
    }
   ],
   "source": [
    "# 3호선\n",
    "line3 = lines_total_counts[lines_total_counts['line'] == 3].copy()\n",
    "line3['people_percentage'] = func_percentage(line3)\n",
    "line3"
   ]
  },
  {
   "cell_type": "code",
   "execution_count": 338,
   "metadata": {},
   "outputs": [
    {
     "data": {
      "image/png": "[encoded data removed]",
      "text/plain": [
       "<Figure size 432x288 with 1 Axes>"
      ]
     },
     "metadata": {
      "needs_background": "light"
     },
     "output_type": "display_data"
    }
   ],
   "source": [
    "line3_data = pd.DataFrame(table[table['line'] == 3])\n",
    "a= sns.countplot(x=\"crowdedness\", hue=\"is_p_seat_empty\", order=['E','N','F'], data=line3_data)\n",
    "plt.title(\"3호선 붐빔정도와 임산부석 빈자리의 상관관계\")\n",
    "a.set(xlabel='붐빔정도', ylabel='빈자리 수')\n",
    "plt.show()"
   ]
  },
  {
   "cell_type": "code",
   "execution_count": 339,
   "metadata": {},
   "outputs": [
    {
     "data": {
      "text/html": [
       "<div>\n",
       "<style scoped>\n",
       "    .dataframe tbody tr th:only-of-type {\n",
       "        vertical-align: middle;\n",
       "    }\n",
       "\n",
       "    .dataframe tbody tr th {\n",
       "        vertical-align: top;\n",
       "    }\n",
       "\n",
       "    .dataframe thead th {\n",
       "        text-align: right;\n",
       "    }\n",
       "</style>\n",
       "<table border=\"1\" class=\"dataframe\">\n",
       "  <thead>\n",
       "    <tr style=\"text-align: right;\">\n",
       "      <th></th>\n",
       "      <th>line</th>\n",
       "      <th>crowdedness</th>\n",
       "      <th>count_people</th>\n",
       "      <th>people_percentage</th>\n",
       "    </tr>\n",
       "  </thead>\n",
       "  <tbody>\n",
       "    <tr>\n",
       "      <th>6</th>\n",
       "      <td>5</td>\n",
       "      <td>E</td>\n",
       "      <td>14</td>\n",
       "      <td>10.29</td>\n",
       "    </tr>\n",
       "    <tr>\n",
       "      <th>7</th>\n",
       "      <td>5</td>\n",
       "      <td>F</td>\n",
       "      <td>63</td>\n",
       "      <td>46.32</td>\n",
       "    </tr>\n",
       "    <tr>\n",
       "      <th>8</th>\n",
       "      <td>5</td>\n",
       "      <td>N</td>\n",
       "      <td>59</td>\n",
       "      <td>43.38</td>\n",
       "    </tr>\n",
       "  </tbody>\n",
       "</table>\n",
       "</div>"
      ],
      "text/plain": [
       "   line crowdedness  count_people  people_percentage\n",
       "6     5           E            14              10.29\n",
       "7     5           F            63              46.32\n",
       "8     5           N            59              43.38"
      ]
     },
     "execution_count": 339,
     "metadata": {},
     "output_type": "execute_result"
    }
   ],
   "source": [
    "# 5호선\n",
    "line5 = lines_total_counts[lines_total_counts['line'] == 5].copy()\n",
    "line5['people_percentage'] = func_percentage(line5)\n",
    "line5"
   ]
  },
  {
   "cell_type": "code",
   "execution_count": 340,
   "metadata": {},
   "outputs": [
    {
     "data": {
      "image/png": "[encoded data removed]",
      "text/plain": [
       "<Figure size 432x288 with 1 Axes>"
      ]
     },
     "metadata": {
      "needs_background": "light"
     },
     "output_type": "display_data"
    }
   ],
   "source": [
    "line5_data = pd.DataFrame(table[table['line'] == 5])\n",
    "a = sns.countplot(x=\"crowdedness\", hue=\"is_p_seat_empty\", order=['E','N','F'], data=line5_data)\n",
    "plt.title(\"5호선 붐빔정도와 임산부석 빈자리의 상관관계\")\n",
    "a.set(xlabel='붐빔정도', ylabel='빈자리 수')\n",
    "plt.show()"
   ]
  },
  {
   "cell_type": "code",
   "execution_count": 341,
   "metadata": {},
   "outputs": [
    {
     "data": {
      "text/html": [
       "<div>\n",
       "<style scoped>\n",
       "    .dataframe tbody tr th:only-of-type {\n",
       "        vertical-align: middle;\n",
       "    }\n",
       "\n",
       "    .dataframe tbody tr th {\n",
       "        vertical-align: top;\n",
       "    }\n",
       "\n",
       "    .dataframe thead th {\n",
       "        text-align: right;\n",
       "    }\n",
       "</style>\n",
       "<table border=\"1\" class=\"dataframe\">\n",
       "  <thead>\n",
       "    <tr style=\"text-align: right;\">\n",
       "      <th></th>\n",
       "      <th>line</th>\n",
       "      <th>crowdedness</th>\n",
       "      <th>count_people</th>\n",
       "      <th>people_percentage</th>\n",
       "    </tr>\n",
       "  </thead>\n",
       "  <tbody>\n",
       "    <tr>\n",
       "      <th>9</th>\n",
       "      <td>6</td>\n",
       "      <td>E</td>\n",
       "      <td>9</td>\n",
       "      <td>11.69</td>\n",
       "    </tr>\n",
       "    <tr>\n",
       "      <th>10</th>\n",
       "      <td>6</td>\n",
       "      <td>F</td>\n",
       "      <td>15</td>\n",
       "      <td>19.48</td>\n",
       "    </tr>\n",
       "    <tr>\n",
       "      <th>11</th>\n",
       "      <td>6</td>\n",
       "      <td>N</td>\n",
       "      <td>53</td>\n",
       "      <td>68.83</td>\n",
       "    </tr>\n",
       "  </tbody>\n",
       "</table>\n",
       "</div>"
      ],
      "text/plain": [
       "    line crowdedness  count_people  people_percentage\n",
       "9      6           E             9              11.69\n",
       "10     6           F            15              19.48\n",
       "11     6           N            53              68.83"
      ]
     },
     "execution_count": 341,
     "metadata": {},
     "output_type": "execute_result"
    }
   ],
   "source": [
    "# 6호선\n",
    "line6 = lines_total_counts[lines_total_counts['line'] == 6].copy()\n",
    "line6['people_percentage'] = func_percentage(line6)\n",
    "line6"
   ]
  },
  {
   "cell_type": "code",
   "execution_count": 342,
   "metadata": {},
   "outputs": [
    {
     "data": {
      "image/png": "[encoded data removed]",
      "text/plain": [
       "<Figure size 432x288 with 1 Axes>"
      ]
     },
     "metadata": {
      "needs_background": "light"
     },
     "output_type": "display_data"
    }
   ],
   "source": [
    "line6_data = pd.DataFrame(table[table['line'] == 6])\n",
    "a = sns.countplot(x=\"crowdedness\", hue=\"is_p_seat_empty\", order=['E','N','F'], data=line6_data)\n",
    "plt.title(\"6호선 붐빔정도와 임산부석 빈자리의 상관관계\")\n",
    "a.set(xlabel='붐빔정도', ylabel='빈자리 수')\n",
    "plt.show()"
   ]
  },
  {
   "cell_type": "code",
   "execution_count": 343,
   "metadata": {},
   "outputs": [
    {
     "data": {
      "text/html": [
       "<div>\n",
       "<style scoped>\n",
       "    .dataframe tbody tr th:only-of-type {\n",
       "        vertical-align: middle;\n",
       "    }\n",
       "\n",
       "    .dataframe tbody tr th {\n",
       "        vertical-align: top;\n",
       "    }\n",
       "\n",
       "    .dataframe thead th {\n",
       "        text-align: right;\n",
       "    }\n",
       "</style>\n",
       "<table border=\"1\" class=\"dataframe\">\n",
       "  <thead>\n",
       "    <tr style=\"text-align: right;\">\n",
       "      <th></th>\n",
       "      <th>line</th>\n",
       "      <th>crowdedness</th>\n",
       "      <th>count_people</th>\n",
       "      <th>people_percentage</th>\n",
       "    </tr>\n",
       "  </thead>\n",
       "  <tbody>\n",
       "    <tr>\n",
       "      <th>12</th>\n",
       "      <td>7</td>\n",
       "      <td>E</td>\n",
       "      <td>12</td>\n",
       "      <td>23.53</td>\n",
       "    </tr>\n",
       "    <tr>\n",
       "      <th>13</th>\n",
       "      <td>7</td>\n",
       "      <td>F</td>\n",
       "      <td>24</td>\n",
       "      <td>47.06</td>\n",
       "    </tr>\n",
       "    <tr>\n",
       "      <th>14</th>\n",
       "      <td>7</td>\n",
       "      <td>N</td>\n",
       "      <td>15</td>\n",
       "      <td>29.41</td>\n",
       "    </tr>\n",
       "  </tbody>\n",
       "</table>\n",
       "</div>"
      ],
      "text/plain": [
       "    line crowdedness  count_people  people_percentage\n",
       "12     7           E            12              23.53\n",
       "13     7           F            24              47.06\n",
       "14     7           N            15              29.41"
      ]
     },
     "execution_count": 343,
     "metadata": {},
     "output_type": "execute_result"
    }
   ],
   "source": [
    "# 7호선\n",
    "line7 = lines_total_counts[lines_total_counts['line'] == 7].copy()\n",
    "line7['people_percentage'] = func_percentage(line7)\n",
    "line7"
   ]
  },
  {
   "cell_type": "code",
   "execution_count": 344,
   "metadata": {},
   "outputs": [
    {
     "data": {
      "image/png": "[encoded data removed]",
      "text/plain": [
       "<Figure size 432x288 with 1 Axes>"
      ]
     },
     "metadata": {
      "needs_background": "light"
     },
     "output_type": "display_data"
    }
   ],
   "source": [
    "line7_data = pd.DataFrame(table[table['line'] == 7])\n",
    "a = sns.countplot(x=\"crowdedness\", hue=\"is_p_seat_empty\", order=['E','N','F'], data=line7_data)\n",
    "plt.title(\"7호선 붐빔정도와 임산부석 빈자리의 상관관계\")\n",
    "a.set(xlabel='붐빔정도', ylabel='빈자리 수')\n",
    "plt.show()"
   ]
  },
  {
   "cell_type": "code",
   "execution_count": 345,
   "metadata": {},
   "outputs": [
    {
     "data": {
      "text/html": [
       "<div>\n",
       "<style scoped>\n",
       "    .dataframe tbody tr th:only-of-type {\n",
       "        vertical-align: middle;\n",
       "    }\n",
       "\n",
       "    .dataframe tbody tr th {\n",
       "        vertical-align: top;\n",
       "    }\n",
       "\n",
       "    .dataframe thead th {\n",
       "        text-align: right;\n",
       "    }\n",
       "</style>\n",
       "<table border=\"1\" class=\"dataframe\">\n",
       "  <thead>\n",
       "    <tr style=\"text-align: right;\">\n",
       "      <th></th>\n",
       "      <th>line</th>\n",
       "      <th>crowdedness</th>\n",
       "      <th>count_people</th>\n",
       "      <th>people_percentage</th>\n",
       "    </tr>\n",
       "  </thead>\n",
       "  <tbody>\n",
       "    <tr>\n",
       "      <th>15</th>\n",
       "      <td>9</td>\n",
       "      <td>E</td>\n",
       "      <td>1</td>\n",
       "      <td>12.5</td>\n",
       "    </tr>\n",
       "    <tr>\n",
       "      <th>16</th>\n",
       "      <td>9</td>\n",
       "      <td>F</td>\n",
       "      <td>5</td>\n",
       "      <td>62.5</td>\n",
       "    </tr>\n",
       "    <tr>\n",
       "      <th>17</th>\n",
       "      <td>9</td>\n",
       "      <td>N</td>\n",
       "      <td>2</td>\n",
       "      <td>25.0</td>\n",
       "    </tr>\n",
       "  </tbody>\n",
       "</table>\n",
       "</div>"
      ],
      "text/plain": [
       "    line crowdedness  count_people  people_percentage\n",
       "15     9           E             1               12.5\n",
       "16     9           F             5               62.5\n",
       "17     9           N             2               25.0"
      ]
     },
     "execution_count": 345,
     "metadata": {},
     "output_type": "execute_result"
    }
   ],
   "source": [
    "# 9호선\n",
    "line9 = lines_total_counts[lines_total_counts['line'] == 9].copy()\n",
    "line9['people_percentage'] = func_percentage(line9)\n",
    "line9"
   ]
  },
  {
   "cell_type": "code",
   "execution_count": 346,
   "metadata": {},
   "outputs": [
    {
     "data": {
      "image/png": "[encoded data removed]",
      "text/plain": [
       "<Figure size 432x288 with 1 Axes>"
      ]
     },
     "metadata": {
      "needs_background": "light"
     },
     "output_type": "display_data"
    }
   ],
   "source": [
    "line9_data = pd.DataFrame(table[table['line'] == 9])\n",
    "a= sns.countplot(x=\"crowdedness\", hue=\"is_p_seat_empty\", order=['E','N','F'], data=line9_data)\n",
    "plt.title(\"9호선 붐빔정도와 임산부석 빈자리의 상관관계\")\n",
    "a.set(xlabel='붐빔정도', ylabel='빈자리 수')\n",
    "plt.show()"
   ]
  },
  {
   "cell_type": "code",
   "execution_count": 347,
   "metadata": {},
   "outputs": [
    {
     "data": {
      "text/html": [
       "<div>\n",
       "<style scoped>\n",
       "    .dataframe tbody tr th:only-of-type {\n",
       "        vertical-align: middle;\n",
       "    }\n",
       "\n",
       "    .dataframe tbody tr th {\n",
       "        vertical-align: top;\n",
       "    }\n",
       "\n",
       "    .dataframe thead th {\n",
       "        text-align: right;\n",
       "    }\n",
       "</style>\n",
       "<table border=\"1\" class=\"dataframe\">\n",
       "  <thead>\n",
       "    <tr style=\"text-align: right;\">\n",
       "      <th></th>\n",
       "      <th>line</th>\n",
       "      <th>crowdedness</th>\n",
       "      <th>count_people</th>\n",
       "      <th>people_percentage</th>\n",
       "    </tr>\n",
       "  </thead>\n",
       "  <tbody>\n",
       "    <tr>\n",
       "      <th>18</th>\n",
       "      <td>10</td>\n",
       "      <td>E</td>\n",
       "      <td>6</td>\n",
       "      <td>9.84</td>\n",
       "    </tr>\n",
       "    <tr>\n",
       "      <th>19</th>\n",
       "      <td>10</td>\n",
       "      <td>F</td>\n",
       "      <td>44</td>\n",
       "      <td>72.13</td>\n",
       "    </tr>\n",
       "    <tr>\n",
       "      <th>20</th>\n",
       "      <td>10</td>\n",
       "      <td>N</td>\n",
       "      <td>11</td>\n",
       "      <td>18.03</td>\n",
       "    </tr>\n",
       "  </tbody>\n",
       "</table>\n",
       "</div>"
      ],
      "text/plain": [
       "    line crowdedness  count_people  people_percentage\n",
       "18    10           E             6               9.84\n",
       "19    10           F            44              72.13\n",
       "20    10           N            11              18.03"
      ]
     },
     "execution_count": 347,
     "metadata": {},
     "output_type": "execute_result"
    }
   ],
   "source": [
    "# 분당선\n",
    "line10 = lines_total_counts[lines_total_counts['line'] == 10].copy()\n",
    "line10['people_percentage'] = func_percentage(line10)\n",
    "line10"
   ]
  },
  {
   "cell_type": "code",
   "execution_count": 348,
   "metadata": {},
   "outputs": [
    {
     "data": {
      "image/png": "[encoded data removed]",
      "text/plain": [
       "<Figure size 432x288 with 1 Axes>"
      ]
     },
     "metadata": {
      "needs_background": "light"
     },
     "output_type": "display_data"
    }
   ],
   "source": [
    "line10_data = pd.DataFrame(table[table['line'] == 10])\n",
    "a= sns.countplot(x=\"crowdedness\", hue=\"is_p_seat_empty\", order=['E','N','F'], data=line10_data)\n",
    "plt.title(\"분당선 붐빔정도와 임산부석 빈자리의 상관관계\")\n",
    "a.set(xlabel='붐빔정도', ylabel='빈자리 수')\n",
    "plt.show()"
   ]
  },
  {
   "cell_type": "code",
   "execution_count": 349,
   "metadata": {},
   "outputs": [
    {
     "data": {
      "text/html": [
       "<div>\n",
       "<style scoped>\n",
       "    .dataframe tbody tr th:only-of-type {\n",
       "        vertical-align: middle;\n",
       "    }\n",
       "\n",
       "    .dataframe tbody tr th {\n",
       "        vertical-align: top;\n",
       "    }\n",
       "\n",
       "    .dataframe thead th {\n",
       "        text-align: right;\n",
       "    }\n",
       "</style>\n",
       "<table border=\"1\" class=\"dataframe\">\n",
       "  <thead>\n",
       "    <tr style=\"text-align: right;\">\n",
       "      <th></th>\n",
       "      <th>line</th>\n",
       "      <th>crowdedness</th>\n",
       "      <th>count_people</th>\n",
       "      <th>people_percentage</th>\n",
       "    </tr>\n",
       "  </thead>\n",
       "  <tbody>\n",
       "    <tr>\n",
       "      <th>21</th>\n",
       "      <td>11</td>\n",
       "      <td>F</td>\n",
       "      <td>3</td>\n",
       "      <td>100.0</td>\n",
       "    </tr>\n",
       "  </tbody>\n",
       "</table>\n",
       "</div>"
      ],
      "text/plain": [
       "    line crowdedness  count_people  people_percentage\n",
       "21    11           F             3              100.0"
      ]
     },
     "execution_count": 349,
     "metadata": {},
     "output_type": "execute_result"
    }
   ],
   "source": [
    "# 경의중앙선\n",
    "line11 = lines_total_counts[lines_total_counts['line'] == 11].copy()\n",
    "line11['people_percentage'] = func_percentage(line11)\n",
    "line11"
   ]
  },
  {
   "cell_type": "code",
   "execution_count": 350,
   "metadata": {},
   "outputs": [
    {
     "data": {
      "image/png": "[encoded data removed]",
      "text/plain": [
       "<Figure size 432x288 with 1 Axes>"
      ]
     },
     "metadata": {
      "needs_background": "light"
     },
     "output_type": "display_data"
    }
   ],
   "source": [
    "line11_data = pd.DataFrame(table[table['line'] == 11])\n",
    "a =sns.countplot(x=\"crowdedness\", hue=\"is_p_seat_empty\", order=['E','N','F'], data=line11_data)\n",
    "plt.title(\"경의중앙선 붐빔정도와 임산부석 빈자리의 상관관계\")\n",
    "a.set(xlabel='붐빔정도', ylabel='빈자리 수')\n",
    "plt.show()"
   ]
  },
  {
   "cell_type": "code",
   "execution_count": 351,
   "metadata": {},
   "outputs": [
    {
     "name": "stdout",
     "output_type": "stream",
     "text": [
      "[11.06, 47.6, 41.35, 20.0, 80.0, 100.0, 10.29, 46.32, 43.38, 11.69, 19.48, 68.83, 23.53, 47.06, 29.41, 12.5, 62.5, 25.0, 9.84, 72.13, 18.03, 100.0]\n",
      "22\n"
     ]
    }
   ],
   "source": [
    "for i in lines_total_counts['line'].unique():\n",
    "    percentages = func_percentage(lines_total_counts[lines_total_counts['line'] == i])\n",
    "    for p in percentages:\n",
    "        lines_p_list.append(p)\n",
    "        \n",
    "\n",
    "print(lines_p_list)\n",
    "\n",
    "print(len(lines_p_list))\n",
    "lines_total_counts['percentage'] = lines_p_list"
   ]
  },
  {
   "cell_type": "code",
   "execution_count": 352,
   "metadata": {
    "scrolled": true
   },
   "outputs": [
    {
     "data": {
      "text/html": [
       "<div>\n",
       "<style scoped>\n",
       "    .dataframe tbody tr th:only-of-type {\n",
       "        vertical-align: middle;\n",
       "    }\n",
       "\n",
       "    .dataframe tbody tr th {\n",
       "        vertical-align: top;\n",
       "    }\n",
       "\n",
       "    .dataframe thead th {\n",
       "        text-align: right;\n",
       "    }\n",
       "</style>\n",
       "<table border=\"1\" class=\"dataframe\">\n",
       "  <thead>\n",
       "    <tr style=\"text-align: right;\">\n",
       "      <th></th>\n",
       "      <th>line</th>\n",
       "      <th>crowdedness</th>\n",
       "      <th>count_people</th>\n",
       "      <th>percentage</th>\n",
       "    </tr>\n",
       "  </thead>\n",
       "  <tbody>\n",
       "    <tr>\n",
       "      <th>0</th>\n",
       "      <td>1</td>\n",
       "      <td>E</td>\n",
       "      <td>23</td>\n",
       "      <td>11.06</td>\n",
       "    </tr>\n",
       "    <tr>\n",
       "      <th>1</th>\n",
       "      <td>1</td>\n",
       "      <td>F</td>\n",
       "      <td>99</td>\n",
       "      <td>47.60</td>\n",
       "    </tr>\n",
       "    <tr>\n",
       "      <th>2</th>\n",
       "      <td>1</td>\n",
       "      <td>N</td>\n",
       "      <td>86</td>\n",
       "      <td>41.35</td>\n",
       "    </tr>\n",
       "    <tr>\n",
       "      <th>3</th>\n",
       "      <td>2</td>\n",
       "      <td>E</td>\n",
       "      <td>1</td>\n",
       "      <td>20.00</td>\n",
       "    </tr>\n",
       "    <tr>\n",
       "      <th>4</th>\n",
       "      <td>2</td>\n",
       "      <td>N</td>\n",
       "      <td>4</td>\n",
       "      <td>80.00</td>\n",
       "    </tr>\n",
       "    <tr>\n",
       "      <th>5</th>\n",
       "      <td>3</td>\n",
       "      <td>F</td>\n",
       "      <td>1</td>\n",
       "      <td>100.00</td>\n",
       "    </tr>\n",
       "    <tr>\n",
       "      <th>6</th>\n",
       "      <td>5</td>\n",
       "      <td>E</td>\n",
       "      <td>14</td>\n",
       "      <td>10.29</td>\n",
       "    </tr>\n",
       "    <tr>\n",
       "      <th>7</th>\n",
       "      <td>5</td>\n",
       "      <td>F</td>\n",
       "      <td>63</td>\n",
       "      <td>46.32</td>\n",
       "    </tr>\n",
       "    <tr>\n",
       "      <th>8</th>\n",
       "      <td>5</td>\n",
       "      <td>N</td>\n",
       "      <td>59</td>\n",
       "      <td>43.38</td>\n",
       "    </tr>\n",
       "    <tr>\n",
       "      <th>9</th>\n",
       "      <td>6</td>\n",
       "      <td>E</td>\n",
       "      <td>9</td>\n",
       "      <td>11.69</td>\n",
       "    </tr>\n",
       "    <tr>\n",
       "      <th>10</th>\n",
       "      <td>6</td>\n",
       "      <td>F</td>\n",
       "      <td>15</td>\n",
       "      <td>19.48</td>\n",
       "    </tr>\n",
       "    <tr>\n",
       "      <th>11</th>\n",
       "      <td>6</td>\n",
       "      <td>N</td>\n",
       "      <td>53</td>\n",
       "      <td>68.83</td>\n",
       "    </tr>\n",
       "    <tr>\n",
       "      <th>12</th>\n",
       "      <td>7</td>\n",
       "      <td>E</td>\n",
       "      <td>12</td>\n",
       "      <td>23.53</td>\n",
       "    </tr>\n",
       "    <tr>\n",
       "      <th>13</th>\n",
       "      <td>7</td>\n",
       "      <td>F</td>\n",
       "      <td>24</td>\n",
       "      <td>47.06</td>\n",
       "    </tr>\n",
       "    <tr>\n",
       "      <th>14</th>\n",
       "      <td>7</td>\n",
       "      <td>N</td>\n",
       "      <td>15</td>\n",
       "      <td>29.41</td>\n",
       "    </tr>\n",
       "    <tr>\n",
       "      <th>15</th>\n",
       "      <td>9</td>\n",
       "      <td>E</td>\n",
       "      <td>1</td>\n",
       "      <td>12.50</td>\n",
       "    </tr>\n",
       "    <tr>\n",
       "      <th>16</th>\n",
       "      <td>9</td>\n",
       "      <td>F</td>\n",
       "      <td>5</td>\n",
       "      <td>62.50</td>\n",
       "    </tr>\n",
       "    <tr>\n",
       "      <th>17</th>\n",
       "      <td>9</td>\n",
       "      <td>N</td>\n",
       "      <td>2</td>\n",
       "      <td>25.00</td>\n",
       "    </tr>\n",
       "    <tr>\n",
       "      <th>18</th>\n",
       "      <td>10</td>\n",
       "      <td>E</td>\n",
       "      <td>6</td>\n",
       "      <td>9.84</td>\n",
       "    </tr>\n",
       "    <tr>\n",
       "      <th>19</th>\n",
       "      <td>10</td>\n",
       "      <td>F</td>\n",
       "      <td>44</td>\n",
       "      <td>72.13</td>\n",
       "    </tr>\n",
       "    <tr>\n",
       "      <th>20</th>\n",
       "      <td>10</td>\n",
       "      <td>N</td>\n",
       "      <td>11</td>\n",
       "      <td>18.03</td>\n",
       "    </tr>\n",
       "    <tr>\n",
       "      <th>21</th>\n",
       "      <td>11</td>\n",
       "      <td>F</td>\n",
       "      <td>3</td>\n",
       "      <td>100.00</td>\n",
       "    </tr>\n",
       "  </tbody>\n",
       "</table>\n",
       "</div>"
      ],
      "text/plain": [
       "    line crowdedness  count_people  percentage\n",
       "0      1           E            23       11.06\n",
       "1      1           F            99       47.60\n",
       "2      1           N            86       41.35\n",
       "3      2           E             1       20.00\n",
       "4      2           N             4       80.00\n",
       "5      3           F             1      100.00\n",
       "6      5           E            14       10.29\n",
       "7      5           F            63       46.32\n",
       "8      5           N            59       43.38\n",
       "9      6           E             9       11.69\n",
       "10     6           F            15       19.48\n",
       "11     6           N            53       68.83\n",
       "12     7           E            12       23.53\n",
       "13     7           F            24       47.06\n",
       "14     7           N            15       29.41\n",
       "15     9           E             1       12.50\n",
       "16     9           F             5       62.50\n",
       "17     9           N             2       25.00\n",
       "18    10           E             6        9.84\n",
       "19    10           F            44       72.13\n",
       "20    10           N            11       18.03\n",
       "21    11           F             3      100.00"
      ]
     },
     "execution_count": 352,
     "metadata": {},
     "output_type": "execute_result"
    }
   ],
   "source": [
    "lines_total_counts"
   ]
  }
 ],
 "metadata": {
  "kernelspec": {
   "display_name": "Python 3",
   "language": "python",
   "name": "python3"
  },
  "language_info": {
   "codemirror_mode": {
    "name": "ipython",
    "version": 3
   },
   "file_extension": ".py",
   "mimetype": "text/x-python",
   "name": "python",
   "nbconvert_exporter": "python",
   "pygments_lexer": "ipython3",
   "version": "3.7.3"
  }
 },
 "nbformat": 4,
 "nbformat_minor": 2
}
